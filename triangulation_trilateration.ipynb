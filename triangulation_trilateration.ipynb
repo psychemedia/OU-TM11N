{
 "cells": [
  {
   "cell_type": "markdown",
   "metadata": {},
   "source": [
    "# Triangulation and Trilateration Demos\n",
    "\n"
   ]
  },
  {
   "cell_type": "code",
   "execution_count": 3,
   "metadata": {
    "collapsed": true
   },
   "outputs": [],
   "source": [
    "#Suppress warnings as matplotlib constructs some files it needs on first run\n",
    "import warnings\n",
    "warnings.filterwarnings(\"ignore\")"
   ]
  },
  {
   "cell_type": "code",
   "execution_count": 4,
   "metadata": {
    "collapsed": false
   },
   "outputs": [],
   "source": [
    "%matplotlib inline\n",
    "#Configure the notebooks to display plots inline and import some plotting tools\n",
    "import matplotlib.pyplot as plt"
   ]
  },
  {
   "cell_type": "code",
   "execution_count": 17,
   "metadata": {
    "collapsed": true
   },
   "outputs": [],
   "source": [
    "#Define the circular areas - first the origins as a pair of co-ords then the radius\n",
    "circle1=((3,2), 2)\n",
    "circle2=((2,0), 1.5)\n",
    "circle3=((1,2), 1.5)"
   ]
  },
  {
   "cell_type": "code",
   "execution_count": 21,
   "metadata": {
    "collapsed": false
   },
   "outputs": [],
   "source": [
    "def plotCircles(c1, c2, c3, point=None):\n",
    "    \n",
    "    #Plot the circles\n",
    "    circle1_plot = plt.Circle(c1[0], radius=c1[1],color='g',fill=None)\n",
    "    circle2_plot = plt.Circle(c2[0], c2[1],color='g',fill=None)\n",
    "    circle3_plot = plt.Circle(c3[0], c3[1],color='g',fill=None)\n",
    "\n",
    "    #We'll create each plot as a subplot and then combine them\n",
    "    fig, ax = plt.subplots() \n",
    "\n",
    "    #Make sure the axes have a 1:1 aspect ratio\n",
    "    #Also set the axis limits (we could calculate these)\n",
    "    plt.axis('equal')\n",
    "    plt.xlim(-5,10)\n",
    "    plt.ylim(-5,10)\n",
    "\n",
    "    #add each plot to the same axis set\n",
    "    ax.add_artist(circle1_plot)\n",
    "    ax.add_artist(circle2_plot)\n",
    "    ax.add_artist(circle3_plot)\n",
    "\n",
    "    #Add a point to show the localised centroid\n",
    "    #Centroid found using localization function\n",
    "    if point is not None:\n",
    "        ax.scatter(point[0],point[1],color='r')\n",
    "\n",
    "    #Display the plot\n",
    "    plt.show()"
   ]
  },
  {
   "cell_type": "code",
   "execution_count": 22,
   "metadata": {
    "collapsed": false
   },
   "outputs": [
    {
     "data": {
      "image/png": "[encoded data removed]",
      "text/plain": [
       "<matplotlib.figure.Figure at 0x7f2241c265c0>"
      ]
     },
     "metadata": {},
     "output_type": "display_data"
    }
   ],
   "source": [
    "plotCircles(circle1,circle2,circle3)"
   ]
  },
  {
   "cell_type": "code",
   "execution_count": 26,
   "metadata": {
    "collapsed": false
   },
   "outputs": [],
   "source": [
    "#Make use of a third party library that implements some localisation functions\n",
    "#Originally via https://github.com/kamalshadi/Localization\n",
    "import localization as lx\n",
    "\n",
    "def localiser(c1, c2, c3, mode='2D',solver='CCA'):\n",
    "    \n",
    "    #Define the localisation algorithm to use - here we find the centroid of the intersection\n",
    "    P=lx.Project(mode=mode,solver=solver)\n",
    "\n",
    "    #Create objects using the localization package with appropriate paramters\n",
    "    P.add_anchor('A',c1[0])\n",
    "    P.add_anchor('B',c2[0])\n",
    "    P.add_anchor('C',c3[0])\n",
    "    t,label=P.add_target()\n",
    "    t.add_measure('A',c1[1])\n",
    "    t.add_measure('B',c2[1])\n",
    "    t.add_measure('C',c3[1])\n",
    "    \n",
    "    #Find the centroid of intersection of the circles\n",
    "    P.solve()\n",
    "    \n",
    "    return t.loc.x,t.loc.y"
   ]
  },
  {
   "cell_type": "code",
   "execution_count": 27,
   "metadata": {
    "collapsed": false
   },
   "outputs": [
    {
     "data": {
      "text/plain": [
       "(1.74887839189825, 1.1310668205951402)"
      ]
     },
     "execution_count": 27,
     "metadata": {},
     "output_type": "execute_result"
    }
   ],
   "source": [
    "localiser(circle1,circle2,circle3)"
   ]
  },
  {
   "cell_type": "code",
   "execution_count": 28,
   "metadata": {
    "collapsed": false
   },
   "outputs": [
    {
     "data": {
      "image/png": "[encoded data removed]",
      "text/plain": [
       "<matplotlib.figure.Figure at 0x7f2241e7b860>"
      ]
     },
     "metadata": {},
     "output_type": "display_data"
    }
   ],
   "source": [
    "#Add a point to show the localised centroid\n",
    "#Centroid found using localization function\n",
    "plotCircles(circle1,circle2,circle3, localiser(circle1,circle2,circle3) )"
   ]
  },
  {
   "cell_type": "code",
   "execution_count": null,
   "metadata": {
    "collapsed": true
   },
   "outputs": [],
   "source": []
  }
 ],
 "metadata": {
  "kernelspec": {
   "display_name": "Python 3",
   "language": "python",
   "name": "python3"
  },
  "language_info": {
   "codemirror_mode": {
    "name": "ipython",
    "version": 3
   },
   "file_extension": ".py",
   "mimetype": "text/x-python",
   "name": "python",
   "nbconvert_exporter": "python",
   "pygments_lexer": "ipython3",
   "version": "3.5.2"
  }
 },
 "nbformat": 4,
 "nbformat_minor": 0
}
