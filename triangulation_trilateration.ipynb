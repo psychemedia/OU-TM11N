{
 "cells": [
  {
   "cell_type": "markdown",
   "metadata": {},
   "source": [
    "# Triangulation and Trilateration Demos\n",
    "\n"
   ]
  },
  {
   "cell_type": "code",
   "execution_count": 1,
   "metadata": {
    "collapsed": true
   },
   "outputs": [],
   "source": [
    "#Suppress warnings as matplotlib constructs some files it needs on first run\n",
    "import warnings\n",
    "warnings.filterwarnings(\"ignore\")"
   ]
  },
  {
   "cell_type": "code",
   "execution_count": 2,
   "metadata": {
    "collapsed": false
   },
   "outputs": [],
   "source": [
    "%matplotlib inline\n",
    "#Configure the notebooks to display plots inline and import some plotting tools\n",
    "import matplotlib.pyplot as plt\n",
    "\n",
    "#Seaborn provides nicer charts\n",
    "import seaborn as sns\n",
    "#We could define an OU theme\n",
    "sns.set_style(\"whitegrid\")"
   ]
  },
  {
   "cell_type": "code",
   "execution_count": 3,
   "metadata": {
    "collapsed": true
   },
   "outputs": [],
   "source": [
    "#Define the circular areas - first the origins as a pair of co-ords then the radius\n",
    "circle1=((3,2), 2)\n",
    "circle2=((2,0), 1.5)\n",
    "circle3=((1,2), 1.5)"
   ]
  },
  {
   "cell_type": "code",
   "execution_count": 6,
   "metadata": {
    "collapsed": false
   },
   "outputs": [],
   "source": [
    "#Make use of a third party library that implements some localisation functions\n",
    "#Originally via https://github.com/kamalshadi/Localization\n",
    "#The function could be made available via a package install rather than having the code visible\n",
    "\n",
    "import localization as lx\n",
    "\n",
    "def localiser(c1, c2, c3, mode='2D',solver='CCA', detail=False):\n",
    "    \n",
    "    #Define the localisation algorithm to use - here we find the centroid of the intersection\n",
    "    P=lx.Project(mode=mode,solver=solver,detail=detail)\n",
    "\n",
    "    #Create objects using the localization package with appropriate paramters\n",
    "    P.add_anchor('A',c1[0])\n",
    "    P.add_anchor('B',c2[0])\n",
    "    P.add_anchor('C',c3[0])\n",
    "    t,label=P.add_target()\n",
    "    t.add_measure('A',c1[1])\n",
    "    t.add_measure('B',c2[1])\n",
    "    t.add_measure('C',c3[1])\n",
    "    \n",
    "    #Find the centroid of intersection of the circles\n",
    "    tmp=P.solve()\n",
    "    \n",
    "    if detail: return tmp,t\n",
    "    \n",
    "    return t.loc.x,t.loc.y"
   ]
  },
  {
   "cell_type": "code",
   "execution_count": 7,
   "metadata": {
    "collapsed": false
   },
   "outputs": [
    {
     "data": {
      "text/plain": [
       "(1.74887839189825, 1.1310668205951402)"
      ]
     },
     "execution_count": 7,
     "metadata": {},
     "output_type": "execute_result"
    }
   ],
   "source": [
    "localiser(circle1,circle2,circle3)"
   ]
  },
  {
   "cell_type": "code",
   "execution_count": 9,
   "metadata": {
    "collapsed": false
   },
   "outputs": [
    {
     "data": {
      "text/plain": [
       "((3,\n",
       "  [<shapely.geometry.polygon.Polygon at 0x7f6af361fc88>,\n",
       "   <shapely.geometry.polygon.Polygon at 0x7f6af361fb38>,\n",
       "   <shapely.geometry.polygon.Polygon at 0x7f6af361f5f8>],\n",
       "  <shapely.geometry.polygon.Polygon at 0x7f6af361ff98>),\n",
       " <localization.geoInterface.Target at 0x7f6af361ff60>)"
      ]
     },
     "execution_count": 9,
     "metadata": {},
     "output_type": "execute_result"
    }
   ],
   "source": [
    "#We can also get detail about the intersection area\n",
    "x=localiser(circle1,circle2,circle3,detail=True)\n",
    "x"
   ]
  },
  {
   "cell_type": "code",
   "execution_count": 55,
   "metadata": {
    "collapsed": false
   },
   "outputs": [
    {
     "name": "stdout",
     "output_type": "stream",
     "text": [
      "0.6606682376981607\n",
      "1.74887839189825 1.1310668205951402\n"
     ]
    },
    {
     "data": {
      "image/svg+xml": [
       "<svg xmlns=\"http://www.w3.org/2000/svg\" xmlns:xlink=\"http://www.w3.org/1999/xlink\" width=\"100.0\" height=\"100.0\" viewBox=\"1.102055201792584 0.5607535382255021 1.3405945948329308 0.9888981134349769\" preserveAspectRatio=\"xMinYMin meet\"><g transform=\"matrix(1,0,0,-1,0,2.1104051898859812)\"><path fill-rule=\"evenodd\" fill=\"#66cc99\" stroke=\"#555555\" stroke-width=\"0.026811891896658616\" opacity=\"0.6\" d=\"M 1.5634733012121078,0.610405189885981 L 1.4539790932745282,0.7312134316727064 L 1.3370607753949113,0.8888595339607928 L 1.2361574713032915,1.057206526348002 L 1.1522409349774276,1.2346331352698177 L 1.151706853453063,1.2361257931356633 L 1.1666446504705956,1.2472044184538171 L 1.292904894761002,1.3228818965225317 L 1.4259748514523634,1.3858192987669293 L 1.5645729841183038,1.4354105035983125 L 1.7073645169758045,1.471177920604845 L 1.8529742895056553,1.4927770900082948 L 1.9999999999999958,1.5 L 2.147025710494336,1.4927770900082957 L 2.292635483024187,1.4711779206048465 L 2.392998144965036,1.446038382498576 L 2.3858192987669304,1.425974851452366 L 2.322881896522533,1.2929048947610042 L 2.2472044184538182,1.1666446504705974 L 2.159515680044106,1.0484100737545325 L 2.0606601717798223,0.9393398282201797 L 1.9515899262454695,0.8404843199558956 L 1.8333553495294046,0.7527955815461831 L 1.7070951052389978,0.6771181034774683 L 1.5740251485476362,0.6141807012330704 L 1.5634733012121078,0.610405189885981 z\" /></g></svg>"
      ],
      "text/plain": [
       "<shapely.geometry.polygon.Polygon at 0x7f6af361ff98>"
      ]
     },
     "execution_count": 55,
     "metadata": {},
     "output_type": "execute_result"
    }
   ],
   "source": [
    "#Display centroid info\n",
    "print(x[0][2].area)\n",
    "print(x[0][2].centroid.x,x[0][2].centroid.y)\n",
    "x[0][2]"
   ]
  },
  {
   "cell_type": "code",
   "execution_count": 83,
   "metadata": {
    "collapsed": false
   },
   "outputs": [
    {
     "name": "stdout",
     "output_type": "stream",
     "text": [
      "Collecting descartes\n",
      "  Downloading descartes-1.0.2-py3-none-any.whl\n",
      "Installing collected packages: descartes\n",
      "Successfully installed descartes-1.0.2\n"
     ]
    }
   ],
   "source": [
    "!/home/main/anaconda2/envs/python3/bin/pip install descartes"
   ]
  },
  {
   "cell_type": "code",
   "execution_count": 84,
   "metadata": {
    "collapsed": false
   },
   "outputs": [],
   "source": [
    "#The function could be made available via a package install rather than having the code visible\n",
    "from descartes import PolygonPatch\n",
    "from matplotlib.collections import PatchCollection\n",
    "def plotCircles(c1, c2, c3, point=None, area=None):\n",
    "    \n",
    "    #Plot the circles\n",
    "    circle1_plot = plt.Circle(c1[0], radius=c1[1],color='g',fill=None)\n",
    "    circle2_plot = plt.Circle(c2[0], c2[1],color='g',fill=None)\n",
    "    circle3_plot = plt.Circle(c3[0], c3[1],color='g',fill=None)\n",
    "\n",
    "    #We'll create each plot as a subplot and then combine them\n",
    "    fig, ax = plt.subplots() \n",
    "\n",
    "    #Make sure the axes have a 1:1 aspect ratio\n",
    "    #Also set the axis limits (we could calculate these)\n",
    "    plt.axis('equal')\n",
    "    plt.xlim(-5,10)\n",
    "    plt.ylim(-5,10)\n",
    "\n",
    "    #add each plot to the same axis set\n",
    "    ax.add_artist(circle1_plot)\n",
    "    ax.add_artist(circle2_plot)\n",
    "    ax.add_artist(circle3_plot)\n",
    "\n",
    "    if area is not None:\n",
    "        ax.add_collection(PatchCollection([PolygonPatch(area[0], facecolor='blue', alpha=1)], match_original=True))\n",
    "        \n",
    "    #Add a point to show the localised centroid\n",
    "    #Centroid found using localization function\n",
    "    if point is not None:\n",
    "        ax.scatter(point[0],point[1],color='r')\n",
    "\n",
    "    #Display the plot\n",
    "    plt.show()"
   ]
  },
  {
   "cell_type": "code",
   "execution_count": 85,
   "metadata": {
    "collapsed": false
   },
   "outputs": [
    {
     "data": {
      "image/png": "[encoded data removed]",
      "text/plain": [
       "<matplotlib.figure.Figure at 0x7f6aef46a7b8>"
      ]
     },
     "metadata": {},
     "output_type": "display_data"
    }
   ],
   "source": [
    "plotCircles(circle1,circle2,circle3)\n",
    "pass"
   ]
  },
  {
   "cell_type": "code",
   "execution_count": 86,
   "metadata": {
    "collapsed": false
   },
   "outputs": [
    {
     "data": {
      "image/png": "[encoded data removed]",
      "text/plain": [
       "<matplotlib.figure.Figure at 0x7f6aeebda7f0>"
      ]
     },
     "metadata": {},
     "output_type": "display_data"
    }
   ],
   "source": [
    "#Add a point to show the localised centroid\n",
    "#Centroid found using localization function\n",
    "x=localiser(circle1,circle2,circle3,detail=True)\n",
    "centroid=(x[0][2].centroid.x,x[0][2].centroid.y)\n",
    "plotCircles(circle1,circle2,circle3, centroid,area=(x[0][2],1) )"
   ]
  },
  {
   "cell_type": "markdown",
   "metadata": {},
   "source": [
    "### Exploring an interactive localiser"
   ]
  },
  {
   "cell_type": "code",
   "execution_count": 51,
   "metadata": {
    "collapsed": true
   },
   "outputs": [],
   "source": [
    "from ipywidgets import interact, widgets"
   ]
  },
  {
   "cell_type": "code",
   "execution_count": 52,
   "metadata": {
    "collapsed": true
   },
   "outputs": [],
   "source": [
    "points= widgets.Textarea()"
   ]
  },
  {
   "cell_type": "code",
   "execution_count": 54,
   "metadata": {
    "collapsed": false
   },
   "outputs": [
    {
     "data": {
      "image/png": "[encoded data removed]",
      "text/plain": [
       "<matplotlib.figure.Figure at 0x7f6aefc7f6a0>"
      ]
     },
     "metadata": {},
     "output_type": "display_data"
    }
   ],
   "source": [
    "c1,c2,c3=circle1,circle2,circle3\n",
    "\n",
    "def f(x1=c1[0][0],y1=c1[0][1],r1=c1[1],\n",
    "      x2=c2[0][0],y2=c2[0][1],r2=c2[1],\n",
    "      x3=c3[0][0],y3=c3[0][1],r3=c3[1],\n",
    "      centre=False):\n",
    "    centre=None if not centre else localiser(((x1,y1),r1),((x2,y2),r2),((x3,y3),r3))\n",
    "    centretxt='' if not centre else 'Midpoint: {:.2f} {:.2f}'.format(centre[0],centre[1])\n",
    "    plotCircles(((x1,y1),r1),((x2,y2),r2),((x3,y3),r3),centre)\n",
    "    points.value='''\n",
    "    Circle 1: centre {}, radius {}\n",
    "    Circle 2: centre {}, radius {}\n",
    "    Circle 3: centre {}, radius {}\n",
    "    {}'''.format((x1,y1),r1,(x2,y2),r2,(x3,y3),r3,centretxt)\n",
    "    \n",
    "interact(f, x1=(0.0,4.0), y1=(1.0,5.0), r1=(1.0,3.0),\n",
    "            x2=(0.0,4.0), y2=(1.0,5.0), r2=(1.0,3.0),\n",
    "            x3=(0.0,4.0), y3=(1.0,5.0), r3=(1.0,3.0),\n",
    "            centre=False)\n",
    "points"
   ]
  },
  {
   "cell_type": "code",
   "execution_count": null,
   "metadata": {
    "collapsed": true
   },
   "outputs": [],
   "source": []
  }
 ],
 "metadata": {
  "kernelspec": {
   "display_name": "Python 3",
   "language": "python",
   "name": "python3"
  },
  "language_info": {
   "codemirror_mode": {
    "name": "ipython",
    "version": 3
   },
   "file_extension": ".py",
   "mimetype": "text/x-python",
   "name": "python",
   "nbconvert_exporter": "python",
   "pygments_lexer": "ipython3",
   "version": "3.5.2"
  }
 },
 "nbformat": 4,
 "nbformat_minor": 0
}
