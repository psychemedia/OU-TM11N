{
 "cells": [
  {
   "cell_type": "markdown",
   "metadata": {},
   "source": [
    "# Triangulation and Trilateration Demos\n",
    "\n"
   ]
  },
  {
   "cell_type": "code",
   "execution_count": 1,
   "metadata": {
    "collapsed": true
   },
   "outputs": [],
   "source": [
    "#Suppress warnings as matplotlib constructs some files it needs on first run\n",
    "import warnings\n",
    "warnings.filterwarnings(\"ignore\")"
   ]
  },
  {
   "cell_type": "code",
   "execution_count": 2,
   "metadata": {
    "collapsed": false
   },
   "outputs": [],
   "source": [
    "%matplotlib inline\n",
    "#Configure the notebooks to display plots inline and import some plotting tools\n",
    "import matplotlib.pyplot as plt\n",
    "\n",
    "#Seaborn provides nicer charts\n",
    "import seaborn as sns\n",
    "#We could define an OU theme\n",
    "sns.set_style(\"whitegrid\")"
   ]
  },
  {
   "cell_type": "code",
   "execution_count": 3,
   "metadata": {
    "collapsed": true
   },
   "outputs": [],
   "source": [
    "#Define the circular areas - first the origins as a pair of co-ords then the radius\n",
    "circle1=((3,2), 2)\n",
    "circle2=((2,0), 1.5)\n",
    "circle3=((1,2), 1.5)"
   ]
  },
  {
   "cell_type": "code",
   "execution_count": 4,
   "metadata": {
    "collapsed": false
   },
   "outputs": [],
   "source": [
    "#The function could be made available via a package install rather than having the code visible\n",
    "def plotCircles(c1, c2, c3, point=None):\n",
    "    \n",
    "    #Plot the circles\n",
    "    circle1_plot = plt.Circle(c1[0], radius=c1[1],color='g',fill=None)\n",
    "    circle2_plot = plt.Circle(c2[0], c2[1],color='g',fill=None)\n",
    "    circle3_plot = plt.Circle(c3[0], c3[1],color='g',fill=None)\n",
    "\n",
    "    #We'll create each plot as a subplot and then combine them\n",
    "    fig, ax = plt.subplots() \n",
    "\n",
    "    #Make sure the axes have a 1:1 aspect ratio\n",
    "    #Also set the axis limits (we could calculate these)\n",
    "    plt.axis('equal')\n",
    "    plt.xlim(-5,10)\n",
    "    plt.ylim(-5,10)\n",
    "\n",
    "    #add each plot to the same axis set\n",
    "    ax.add_artist(circle1_plot)\n",
    "    ax.add_artist(circle2_plot)\n",
    "    ax.add_artist(circle3_plot)\n",
    "\n",
    "    #Add a point to show the localised centroid\n",
    "    #Centroid found using localization function\n",
    "    if point is not None:\n",
    "        ax.scatter(point[0],point[1],color='r')\n",
    "\n",
    "    #Display the plot\n",
    "    plt.show()"
   ]
  },
  {
   "cell_type": "code",
   "execution_count": 5,
   "metadata": {
    "collapsed": false
   },
   "outputs": [
    {
     "data": {
      "image/png": "[encoded data removed]",
      "text/plain": [
       "<matplotlib.figure.Figure at 0x7fd48d51ea20>"
      ]
     },
     "metadata": {},
     "output_type": "display_data"
    }
   ],
   "source": [
    "plotCircles(circle1,circle2,circle3)"
   ]
  },
  {
   "cell_type": "code",
   "execution_count": 6,
   "metadata": {
    "collapsed": false
   },
   "outputs": [],
   "source": [
    "#Make use of a third party library that implements some localisation functions\n",
    "#Originally via https://github.com/kamalshadi/Localization\n",
    "#The function could be made available via a package install rather than having the code visible\n",
    "\n",
    "import localization as lx\n",
    "\n",
    "def localiser(c1, c2, c3, mode='2D',solver='CCA'):\n",
    "    \n",
    "    #Define the localisation algorithm to use - here we find the centroid of the intersection\n",
    "    P=lx.Project(mode=mode,solver=solver)\n",
    "\n",
    "    #Create objects using the localization package with appropriate paramters\n",
    "    P.add_anchor('A',c1[0])\n",
    "    P.add_anchor('B',c2[0])\n",
    "    P.add_anchor('C',c3[0])\n",
    "    t,label=P.add_target()\n",
    "    t.add_measure('A',c1[1])\n",
    "    t.add_measure('B',c2[1])\n",
    "    t.add_measure('C',c3[1])\n",
    "    \n",
    "    #Find the centroid of intersection of the circles\n",
    "    P.solve()\n",
    "    \n",
    "    return t.loc.x,t.loc.y"
   ]
  },
  {
   "cell_type": "code",
   "execution_count": 7,
   "metadata": {
    "collapsed": false
   },
   "outputs": [
    {
     "data": {
      "text/plain": [
       "(1.74887839189825, 1.1310668205951402)"
      ]
     },
     "execution_count": 7,
     "metadata": {},
     "output_type": "execute_result"
    }
   ],
   "source": [
    "localiser(circle1,circle2,circle3)"
   ]
  },
  {
   "cell_type": "code",
   "execution_count": 8,
   "metadata": {
    "collapsed": false
   },
   "outputs": [
    {
     "data": {
      "image/png": "[encoded data removed]",
      "text/plain": [
       "<matplotlib.figure.Figure at 0x7fd48d51e198>"
      ]
     },
     "metadata": {},
     "output_type": "display_data"
    }
   ],
   "source": [
    "#Add a point to show the localised centroid\n",
    "#Centroid found using localization function\n",
    "plotCircles(circle1,circle2,circle3, localiser(circle1,circle2,circle3) )"
   ]
  },
  {
   "cell_type": "markdown",
   "metadata": {},
   "source": [
    "### Exploring an interactive localiser"
   ]
  },
  {
   "cell_type": "code",
   "execution_count": 18,
   "metadata": {
    "collapsed": true
   },
   "outputs": [],
   "source": [
    "from ipywidgets import interact, widgets"
   ]
  },
  {
   "cell_type": "code",
   "execution_count": 34,
   "metadata": {
    "collapsed": true
   },
   "outputs": [],
   "source": [
    "points= widgets.Textarea()"
   ]
  },
  {
   "cell_type": "code",
   "execution_count": 45,
   "metadata": {
    "collapsed": false
   },
   "outputs": [
    {
     "data": {
      "image/png": "[encoded data removed]",
      "text/plain": [
       "<matplotlib.figure.Figure at 0x7fd489c53278>"
      ]
     },
     "metadata": {},
     "output_type": "display_data"
    }
   ],
   "source": [
    "c1,c2,c3=circle1,circle2,circle3\n",
    "\n",
    "def f(x1=c1[0][0],y1=c1[0][1],r1=c1[1],\n",
    "      x2=c2[0][0],y2=c2[0][1],r2=c2[1],\n",
    "      x3=c3[0][0],y3=c3[0][1],r3=c3[1],\n",
    "      centre=False):\n",
    "    centre=None if not centre else localiser(((x1,y1),r1),((x2,y2),r2),((x3,y3),r3))\n",
    "    centretxt='' if not centre else 'Midpoint: {:.2f} {:.2f}'.format(centre[0],centre[1])\n",
    "    plotCircles(((x1,y1),r1),((x2,y2),r2),((x3,y3),r3),centre)\n",
    "    points.value='''\n",
    "    Circle 1: centre {}, radius {}\n",
    "    Circle 2: centre {}, radius {}\n",
    "    Circle 3: centre {}, radius {}\n",
    "    {}'''.format((x1,y1),r1,(x2,y2),r2,(x3,y3),r3,centretxt)\n",
    "    \n",
    "interact(f, x1=(0.0,4.0), y1=(1.0,5.0), r1=(1.0,3.0),\n",
    "            x2=(0.0,4.0), y2=(1.0,5.0), r2=(1.0,3.0),\n",
    "            x3=(0.0,4.0), y3=(1.0,5.0), r3=(1.0,3.0),\n",
    "            centre=False)\n",
    "points"
   ]
  },
  {
   "cell_type": "code",
   "execution_count": null,
   "metadata": {
    "collapsed": true
   },
   "outputs": [],
   "source": []
  }
 ],
 "metadata": {
  "kernelspec": {
   "display_name": "Python 3",
   "language": "python",
   "name": "python3"
  },
  "language_info": {
   "codemirror_mode": {
    "name": "ipython",
    "version": 3
   },
   "file_extension": ".py",
   "mimetype": "text/x-python",
   "name": "python",
   "nbconvert_exporter": "python",
   "pygments_lexer": "ipython3",
   "version": "3.5.2"
  }
 },
 "nbformat": 4,
 "nbformat_minor": 0
}
