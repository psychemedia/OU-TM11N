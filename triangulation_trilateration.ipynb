{
 "cells": [
  {
   "cell_type": "markdown",
   "metadata": {},
   "source": [
    "# Triangulation and Trilateration Demos\n",
    "\n"
   ]
  },
  {
   "cell_type": "code",
   "execution_count": null,
   "metadata": {
    "collapsed": true
   },
   "outputs": [],
   "source": [
    "#Make use of a thrid party library that implements some localisation functions\n",
    "#https://github.com/kamalshadi/Localization\n",
    "import localization as lx"
   ]
  },
  {
   "cell_type": "code",
   "execution_count": null,
   "metadata": {
    "collapsed": true
   },
   "outputs": [],
   "source": [
    "#Define the localisation algorith to use - here we find the centroid of the intersection\n",
    "P=lx.Project(mode='2D',solver='CCA')"
   ]
  },
  {
   "cell_type": "code",
   "execution_count": null,
   "metadata": {
    "collapsed": true
   },
   "outputs": [],
   "source": [
    "#Define the circular areas - first the origins\n",
    "circle1=(3,2)\n",
    "circle2=(2,0)\n",
    "circle3=(1,2)\n",
    "#Then the radii\n",
    "r1=2\n",
    "r2=1.5\n",
    "r3=1.5"
   ]
  },
  {
   "cell_type": "code",
   "execution_count": null,
   "metadata": {
    "collapsed": true
   },
   "outputs": [],
   "source": [
    "#Create objects using the locationlisation package with appropriate paramters\n",
    "P.add_anchor('A',circle1)\n",
    "P.add_anchor('B',circle2)\n",
    "P.add_anchor('C',circle3)\n",
    "t,label=P.add_target()\n",
    "t.add_measure('A',r1)\n",
    "t.add_measure('B',r2)\n",
    "t.add_measure('C',r3)"
   ]
  },
  {
   "cell_type": "code",
   "execution_count": null,
   "metadata": {
    "collapsed": true
   },
   "outputs": [],
   "source": [
    "#Find the centroid of intersection of the circles\n",
    "P.solve()\n",
    "t.loc.x,t.loc.y"
   ]
  },
  {
   "cell_type": "code",
   "execution_count": null,
   "metadata": {
    "collapsed": true
   },
   "outputs": [],
   "source": [
    "%matplotlib inline\n",
    "#Configure the notebooks to display plots inline and import some plotting tools\n",
    "import matplotlib.pyplot as plt\n",
    "import folium"
   ]
  },
  {
   "cell_type": "code",
   "execution_count": null,
   "metadata": {
    "collapsed": true
   },
   "outputs": [],
   "source": [
    "#Plot the circles\n",
    "circle1_plot = plt.Circle(circle1, radius=r1,color='g',fill=None)\n",
    "circle2_plot = plt.Circle(circle2, r2,color='g',fill=None)\n",
    "circle3_plot = plt.Circle(circle3, r3,color='g',fill=None)\n",
    "\n",
    "#We'll create each plot as a subplot and then combine them\n",
    "fig, ax = plt.subplots() \n",
    "\n",
    "#Make sure the axes have a 1:1 aspect ratio, and set the axis limits (we could calculate these)\n",
    "plt.axis('equal')\n",
    "plt.xlim(-5,10)\n",
    "plt.ylim(-5,10)\n",
    "\n",
    "#add each plot to the same axis set\n",
    "ax.add_artist(circle1_plot)\n",
    "ax.add_artist(circle2_plot)\n",
    "ax.add_artist(circle3_plot)\n",
    "\n",
    "#Add a point to show the localised centroid\n",
    "ax.scatter(t.loc.x,t.loc.y,color='r')\n",
    "\n",
    "#Display the plot\n",
    "plt.show()"
   ]
  }
 ],
 "metadata": {
  "kernelspec": {
   "display_name": "Python 3",
   "language": "python",
   "name": "python3"
  },
  "language_info": {
   "codemirror_mode": {
    "name": "ipython",
    "version": 3
   },
   "file_extension": ".py",
   "mimetype": "text/x-python",
   "name": "python",
   "nbconvert_exporter": "python",
   "pygments_lexer": "ipython3",
   "version": "3.5.2"
  }
 },
 "nbformat": 4,
 "nbformat_minor": 0
}
