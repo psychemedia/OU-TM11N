{
 "cells": [
  {
   "cell_type": "code",
   "execution_count": 1,
   "metadata": {
    "collapsed": false
   },
   "outputs": [],
   "source": [
    "from pyknon.genmidi import Midi\n",
    "from pyknon.music import NoteSeq, Note\n",
    "\n",
    "melody = [10, 10, 11, 13, 13, 11, 10, 8,4,3]\n",
    "\n",
    "def makeMidi(notes, name, filename=\"tune1.midi\"):\n",
    "    notes1 = map(Note, notes)\n",
    "    midi = Midi(1, tempo=90)\n",
    "    midi.seq_notes(notes1, track = 0)\n",
    "    midi.write(filename)\n",
    "\n",
    "makeMidi(melody, \"Melody 1\")"
   ]
  },
  {
   "cell_type": "code",
   "execution_count": 2,
   "metadata": {
    "collapsed": false
   },
   "outputs": [],
   "source": [
    "from music21 import midi\n",
    "def playMidi(filename):\n",
    "    mf = midi.MidiFile()\n",
    "    mf.open(filename)\n",
    "    mf.read()\n",
    "    mf.close()\n",
    "    s = midi.translate.midiFileToStream(mf)\n",
    "    s.show('midi')"
   ]
  },
  {
   "cell_type": "code",
   "execution_count": 3,
   "metadata": {
    "collapsed": false,
    "scrolled": true
   },
   "outputs": [
    {
     "data": {
      "text/html": [
       "\n",
       "                <div id='midiPlayerDiv97'></div>\n",
       "                <link rel=\"stylesheet\" href=\"http://artusi.xyz/music21j/css/m21.css\" \n",
       "                    type=\"text/css\" />\n",
       "                <script>\n",
       "                require.config({\n",
       "                    paths: {'music21': 'http://artusi.xyz/music21j/src/music21'} \n",
       "                }); \n",
       "                require(['music21'], function() { \n",
       "                               mp = new music21.miditools.MidiPlayer();\n",
       "                               mp.addPlayer('#midiPlayerDiv97'); \n",
       "                               mp.base64Load('data:audio/midi;base64,TVRoZAAAAAYAAQABBABNVHJrAAAAegD/AwVQaWFubwDAAADgAEAAwAAA/1EDCiwriACQRmSIAIBGAACQRmSIAIBGAACQR2SIAIBHAACQSWSIAIBJAACQSWSIAIBJAACQR2SIAIBHAACQRmSIAIBGAACQRGSIAIBEAACQQGSIAIBAAACQP2SIAIA/AIgA/y8A'); \n",
       "                        });\n",
       "                </script>"
      ],
      "text/plain": [
       "<IPython.core.display.HTML object>"
      ]
     },
     "metadata": {},
     "output_type": "display_data"
    }
   ],
   "source": [
    "playMidi(\"tune1.midi\")"
   ]
  },
  {
   "cell_type": "code",
   "execution_count": 4,
   "metadata": {
    "collapsed": true
   },
   "outputs": [],
   "source": [
    "#Install notation stuff"
   ]
  },
  {
   "cell_type": "code",
   "execution_count": 5,
   "metadata": {
    "collapsed": false
   },
   "outputs": [
    {
     "name": "stdout",
     "output_type": "stream",
     "text": [
      "converted 'http://download.linuxaudio.org/lilypond/binaries/linux-64/lilypond-2.18.2-1.linux-64.sh' (ANSI_X3.4-1968) -> 'http://download.linuxaudio.org/lilypond/binaries/linux-64/lilypond-2.18.2-1.linux-64.sh' (UTF-8)\n",
      "--2016-09-07 22:27:01--  http://download.linuxaudio.org/lilypond/binaries/linux-64/lilypond-2.18.2-1.linux-64.sh\n",
      "Resolving download.linuxaudio.org (download.linuxaudio.org)... 198.82.152.114\n",
      "Connecting to download.linuxaudio.org (download.linuxaudio.org)|198.82.152.114|:80... connected.\n",
      "HTTP request sent, awaiting response... 200 OK\n",
      "Length: 21878058 (21M) [text/x-sh]\n",
      "Saving to: 'lilypond-2.18.2-1.linux-64.sh'\n",
      "\n",
      "lilypond-2.18.2-1.l   0%[                      ]       0  --.-KB/s             "
     ]
    },
    {
     "name": "stderr",
     "output_type": "stream",
     "text": [
      "/home/main/anaconda2/envs/python3/lib/python3.5/site-packages/matplotlib/font_manager.py:273: UserWarning: Matplotlib is building the font cache using fc-list. This may take a moment.\n",
      "  warnings.warn('Matplotlib is building the font cache using fc-list. This may take a moment.')\n",
      "/home/main/anaconda2/envs/python3/lib/python3.5/site-packages/matplotlib/font_manager.py:273: UserWarning: Matplotlib is building the font cache using fc-list. This may take a moment.\n",
      "  warnings.warn('Matplotlib is building the font cache using fc-list. This may take a moment.')\n"
     ]
    },
    {
     "name": "stdout",
     "output_type": "stream",
     "text": [
      "lilypond-2.18.2-1.l 100%[=====================>]  20.86M  40.5MB/s   in 0.5s   \n",
      "\n",
      "2016-09-07 22:27:02 (40.5 MB/s) - 'lilypond-2.18.2-1.linux-64.sh' saved [21878058/21878058]\n",
      "\n"
     ]
    }
   ],
   "source": [
    "!wget http://download.linuxaudio.org/lilypond/binaries/linux-64/lilypond-2.18.2-1.linux-64.sh"
   ]
  },
  {
   "cell_type": "code",
   "execution_count": 8,
   "metadata": {
    "collapsed": false
   },
   "outputs": [
    {
     "name": "stdout",
     "output_type": "stream",
     "text": [
      "\n",
      "lilypond installer for version 2.18.2 release 1,\n",
      "x86_64 build.\n",
      "For a list of options, abort (^C) then do:\n",
      "sh lilypond-2.18.2-1.linux-64.sh --help\n",
      "\n",
      "Making /home/main/lilypond\n",
      "Making /home/main/bin\n",
      "Creating script /home/main/bin/lilypond\n",
      "Creating script /home/main/bin/lilypond-wrapper.python\n",
      "Creating script /home/main/bin/lilypond-wrapper.guile\n",
      "Creating script /home/main/bin/uninstall-lilypond\n",
      "Untarring lilypond-2.18.2-1.linux-64.sh\n",
      "To uninstall lilypond, run\n",
      "\n",
      "    /home/main/bin/uninstall-lilypond\n",
      "\n",
      "For license and warranty information, consult\n",
      "\n",
      "    /home/main/lilypond/license/README\n",
      "\n",
      "Full documentation can be found at\n",
      "\n",
      "    http://lilypond.org/doc\n",
      "\n"
     ]
    }
   ],
   "source": [
    "!sh lilypond-2.18.2-1.linux-64.sh --batch"
   ]
  },
  {
   "cell_type": "code",
   "execution_count": 15,
   "metadata": {
    "collapsed": false
   },
   "outputs": [],
   "source": [
    "#environment imported from music21\n",
    "from music21 import *\n",
    "environment.UserSettings()['lilypondPath']='/home/main/bin/lilypond'\n",
    "environment.set('pdfPath', '/usr/bin/musescore')\n",
    "environment.set('graphicsPath', '/usr/bin/musescore')"
   ]
  },
  {
   "cell_type": "code",
   "execution_count": 22,
   "metadata": {
    "collapsed": false
   },
   "outputs": [
    {
     "name": "stdout",
     "output_type": "stream",
     "text": [
      "The music21.ipython21 extension is already loaded. To reload it, use:\n",
      "  %reload_ext music21.ipython21\n"
     ]
    }
   ],
   "source": [
    "#following should now work but issues...?\n",
    "%load_ext music21.ipython21"
   ]
  },
  {
   "cell_type": "code",
   "execution_count": 39,
   "metadata": {
    "collapsed": true
   },
   "outputs": [],
   "source": [
    "from music21 import *\n",
    "c = chord.Chord(\"C4 E4 G4\")\n",
    "c.isConsonant()\n",
    "c.show('lily.png')"
   ]
  },
  {
   "cell_type": "code",
   "execution_count": 40,
   "metadata": {
    "collapsed": false
   },
   "outputs": [
    {
     "data": {
      "image/png": "[encoded data removed]",
      "text/plain": [
       "<IPython.core.display.Image object>"
      ]
     },
     "execution_count": 40,
     "metadata": {},
     "output_type": "execute_result"
    }
   ],
   "source": [
    "from IPython.display import Image\n",
    "Image(filename=c.write('lily.png'))"
   ]
  },
  {
   "cell_type": "code",
   "execution_count": 41,
   "metadata": {
    "collapsed": false
   },
   "outputs": [
    {
     "name": "stdout",
     "output_type": "stream",
     "text": [
      "Audio.ipynb\t\t       midiMusic.ipynb\r\n",
      "Dockerfile\t\t       requirements.txt\r\n",
      "README.md\t\t       simpleMapDemo.ipynb\r\n",
      "geolocationDemos.ipynb\t       triangulation.ipynb\r\n",
      "handle-requirements.txt        triangulation_trilateration.ipynb\r\n",
      "images\t\t\t       tune1.midi\r\n",
      "lilypond-2.18.2-1.linux-64.sh  wifi_MAC.ipynb\r\n"
     ]
    }
   ],
   "source": [
    "!ls"
   ]
  },
  {
   "cell_type": "code",
   "execution_count": 42,
   "metadata": {
    "collapsed": true
   },
   "outputs": [],
   "source": [
    "s = converter.parse('tune1.midi') "
   ]
  },
  {
   "cell_type": "code",
   "execution_count": 43,
   "metadata": {
    "collapsed": false
   },
   "outputs": [
    {
     "data": {
      "image/png": "[encoded data removed]",
      "text/plain": [
       "<IPython.core.display.Image object>"
      ]
     },
     "execution_count": 43,
     "metadata": {},
     "output_type": "execute_result"
    }
   ],
   "source": [
    "Image(filename=s.write('lily.png'))"
   ]
  },
  {
   "cell_type": "code",
   "execution_count": null,
   "metadata": {
    "collapsed": true
   },
   "outputs": [],
   "source": []
  }
 ],
 "metadata": {
  "kernelspec": {
   "display_name": "Python 3",
   "language": "python",
   "name": "python3"
  },
  "language_info": {
   "codemirror_mode": {
    "name": "ipython",
    "version": 3
   },
   "file_extension": ".py",
   "mimetype": "text/x-python",
   "name": "python",
   "nbconvert_exporter": "python",
   "pygments_lexer": "ipython3",
   "version": "3.5.2"
  }
 },
 "nbformat": 4,
 "nbformat_minor": 0
}
