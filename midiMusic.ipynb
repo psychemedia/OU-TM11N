{
 "cells": [
  {
   "cell_type": "code",
   "execution_count": 6,
   "metadata": {
    "collapsed": false
   },
   "outputs": [],
   "source": [
    "from pyknon.genmidi import Midi\n",
    "from pyknon.music import NoteSeq, Note\n",
    "\n",
    "melody = [10, 10, 11, 13, 13, 11, 10, 8,4,3]\n",
    "\n",
    "def makeMidi(notes, name, filename=\"tune1.midi\"):\n",
    "    notes1 = map(Note, notes)\n",
    "    midi = Midi(1, tempo=90)\n",
    "    midi.seq_notes(notes1, track = 0)\n",
    "    midi.write(filename)\n",
    "\n",
    "makeMidi(melody, \"Melody 1\")"
   ]
  },
  {
   "cell_type": "code",
   "execution_count": 7,
   "metadata": {
    "collapsed": false
   },
   "outputs": [],
   "source": [
    "from music21 import midi\n",
    "def playMidi(filename):\n",
    "    mf = midi.MidiFile()\n",
    "    mf.open(filename)\n",
    "    mf.read()\n",
    "    mf.close()\n",
    "    s = midi.translate.midiFileToStream(mf)\n",
    "    s.show('midi')"
   ]
  },
  {
   "cell_type": "code",
   "execution_count": 8,
   "metadata": {
    "collapsed": false,
    "scrolled": true
   },
   "outputs": [
    {
     "data": {
      "text/html": [
       "\n",
       "                <div id='midiPlayerDiv195'></div>\n",
       "                <link rel=\"stylesheet\" href=\"http://artusi.xyz/music21j/css/m21.css\" \n",
       "                    type=\"text/css\" />\n",
       "                <script>\n",
       "                require.config({\n",
       "                    paths: {'music21': 'http://artusi.xyz/music21j/src/music21'} \n",
       "                }); \n",
       "                require(['music21'], function() { \n",
       "                               mp = new music21.miditools.MidiPlayer();\n",
       "                               mp.addPlayer('#midiPlayerDiv195'); \n",
       "                               mp.base64Load('data:audio/midi;base64,TVRoZAAAAAYAAQABBABNVHJrAAAAegD/AwVQaWFubwDAAADgAEAAwAAA/1EDCiwriACQRmSIAIBGAACQRmSIAIBGAACQR2SIAIBHAACQSWSIAIBJAACQSWSIAIBJAACQR2SIAIBHAACQRmSIAIBGAACQRGSIAIBEAACQQGSIAIBAAACQP2SIAIA/AIgA/y8A'); \n",
       "                        });\n",
       "                </script>"
      ],
      "text/plain": [
       "<IPython.core.display.HTML object>"
      ]
     },
     "metadata": {},
     "output_type": "display_data"
    }
   ],
   "source": [
    "playMidi(\"tune1.midi\")"
   ]
  },
  {
   "cell_type": "code",
   "execution_count": 25,
   "metadata": {
    "collapsed": true
   },
   "outputs": [],
   "source": [
    "#Install notation stuff"
   ]
  },
  {
   "cell_type": "code",
   "execution_count": 27,
   "metadata": {
    "collapsed": false
   },
   "outputs": [
    {
     "name": "stdout",
     "output_type": "stream",
     "text": [
      "converted 'http://download.linuxaudio.org/lilypond/binaries/linux-64/lilypond-2.18.2-1.linux-64.sh' (ANSI_X3.4-1968) -> 'http://download.linuxaudio.org/lilypond/binaries/linux-64/lilypond-2.18.2-1.linux-64.sh' (UTF-8)\n",
      "--2016-09-02 17:37:09--  http://download.linuxaudio.org/lilypond/binaries/linux-64/lilypond-2.18.2-1.linux-64.sh\n",
      "Resolving download.linuxaudio.org (download.linuxaudio.org)... 198.82.152.114\n",
      "Connecting to download.linuxaudio.org (download.linuxaudio.org)|198.82.152.114|:80... connected.\n",
      "HTTP request sent, awaiting response... 200 OK\n",
      "Length: 21878058 (21M) [text/x-sh]\n",
      "Saving to: 'lilypond-2.18.2-1.linux-64.sh.1'\n",
      "\n",
      "lilypond-2.18.2-1.l 100%[=====================>]  20.86M  43.5MB/s   in 0.5s   \n",
      "\n",
      "2016-09-02 17:37:10 (43.5 MB/s) - 'lilypond-2.18.2-1.linux-64.sh.1' saved [21878058/21878058]\n",
      "\n"
     ]
    }
   ],
   "source": [
    "!wget http://download.linuxaudio.org/lilypond/binaries/linux-64/lilypond-2.18.2-1.linux-64.sh"
   ]
  },
  {
   "cell_type": "code",
   "execution_count": 28,
   "metadata": {
    "collapsed": false
   },
   "outputs": [
    {
     "name": "stdout",
     "output_type": "stream",
     "text": [
      "\r\n",
      "lilypond installer for version 2.18.2 release 1,\r\n",
      "x86_64 build.\r\n",
      "For a list of options, abort (^C) then do:\r\n",
      "sh lilypond-2.18.2-1.linux-64.sh --help\r\n",
      "\r\n",
      "Directory /home/main/lilypond already exists.\r\n",
      "Remove old lilypond installations before installing this one.\r\n",
      "Run /home/main/bin/uninstall-lilypond to uninstall previous version.\r\n"
     ]
    }
   ],
   "source": [
    "!sh lilypond-2.18.2-1.linux-64.sh --batch"
   ]
  },
  {
   "cell_type": "code",
   "execution_count": 29,
   "metadata": {
    "collapsed": true
   },
   "outputs": [],
   "source": [
    "#environment imported from music21\n",
    "from music21 import environment\n",
    "environment.UserSettings()['lilypondPath']='/home/main/bin/lilypond'\n",
    "environment.set('pdfPath', '/usr/bin/musescore')\n",
    "environment.set('graphicsPath', '/usr/bin/musescore')"
   ]
  },
  {
   "cell_type": "code",
   "execution_count": 30,
   "metadata": {
    "collapsed": false
   },
   "outputs": [
    {
     "name": "stdout",
     "output_type": "stream",
     "text": [
      "The music21.ipython21 extension is already loaded. To reload it, use:\n",
      "  %reload_ext music21.ipython21\n"
     ]
    },
    {
     "ename": "SubConverterException",
     "evalue": "Cannot find a valid application path for format pdf. Specify this in your Environment by calling environment.set('pdfPath', '/path/to/application')",
     "output_type": "error",
     "traceback": [
      "\u001b[1;31m\u001b[0m",
      "\u001b[1;31mSubConverterException\u001b[0mTraceback (most recent call last)",
      "\u001b[1;32m<ipython-input-30-216403d9f504>\u001b[0m in \u001b[0;36m<module>\u001b[1;34m()\u001b[0m\n\u001b[0;32m      4\u001b[0m \u001b[0mc\u001b[0m \u001b[1;33m=\u001b[0m \u001b[0mchord\u001b[0m\u001b[1;33m.\u001b[0m\u001b[0mChord\u001b[0m\u001b[1;33m(\u001b[0m\u001b[1;34m\"C4 E4 G4\"\u001b[0m\u001b[1;33m)\u001b[0m\u001b[1;33m\u001b[0m\u001b[0m\n\u001b[0;32m      5\u001b[0m \u001b[0mc\u001b[0m\u001b[1;33m.\u001b[0m\u001b[0misConsonant\u001b[0m\u001b[1;33m(\u001b[0m\u001b[1;33m)\u001b[0m\u001b[1;33m\u001b[0m\u001b[0m\n\u001b[1;32m----> 6\u001b[1;33m \u001b[0mc\u001b[0m\u001b[1;33m.\u001b[0m\u001b[0mshow\u001b[0m\u001b[1;33m(\u001b[0m\u001b[1;34m'lily.pdf'\u001b[0m\u001b[1;33m)\u001b[0m\u001b[1;33m\u001b[0m\u001b[0m\n\u001b[0m",
      "\u001b[1;32m/home/main/anaconda2/envs/python3/lib/python3.5/site-packages/music21/base.py\u001b[0m in \u001b[0;36mshow\u001b[1;34m(self, fmt, app, **keywords)\u001b[0m\n\u001b[0;32m   2586\u001b[0m                                  \u001b[0mapp\u001b[0m\u001b[1;33m=\u001b[0m\u001b[0mapp\u001b[0m\u001b[1;33m,\u001b[0m\u001b[1;33m\u001b[0m\u001b[0m\n\u001b[0;32m   2587\u001b[0m                                  \u001b[0msubformats\u001b[0m\u001b[1;33m=\u001b[0m\u001b[0msubformats\u001b[0m\u001b[1;33m,\u001b[0m\u001b[1;33m\u001b[0m\u001b[0m\n\u001b[1;32m-> 2588\u001b[1;33m                                  **keywords)\n\u001b[0m\u001b[0;32m   2589\u001b[0m \u001b[1;33m\u001b[0m\u001b[0m\n\u001b[0;32m   2590\u001b[0m     \u001b[1;31m#--------------------------------------------------------------------------\u001b[0m\u001b[1;33m\u001b[0m\u001b[1;33m\u001b[0m\u001b[0m\n",
      "\u001b[1;32m/home/main/anaconda2/envs/python3/lib/python3.5/site-packages/music21/converter/subConverters.py\u001b[0m in \u001b[0;36mshow\u001b[1;34m(self, obj, fmt, app, subformats, **keywords)\u001b[0m\n\u001b[0;32m    414\u001b[0m \u001b[1;33m\u001b[0m\u001b[0m\n\u001b[0;32m    415\u001b[0m         \u001b[0mlaunchKey\u001b[0m \u001b[1;33m=\u001b[0m \u001b[0menvironLocal\u001b[0m\u001b[1;33m.\u001b[0m\u001b[0mformatToKey\u001b[0m\u001b[1;33m(\u001b[0m\u001b[0moutFormat\u001b[0m\u001b[1;33m)\u001b[0m\u001b[1;33m\u001b[0m\u001b[0m\n\u001b[1;32m--> 416\u001b[1;33m         \u001b[0mself\u001b[0m\u001b[1;33m.\u001b[0m\u001b[0mlaunch\u001b[0m\u001b[1;33m(\u001b[0m\u001b[0mreturnedFilePath\u001b[0m\u001b[1;33m,\u001b[0m \u001b[0mfmt\u001b[0m\u001b[1;33m=\u001b[0m\u001b[0moutFormat\u001b[0m\u001b[1;33m,\u001b[0m \u001b[0mapp\u001b[0m\u001b[1;33m=\u001b[0m\u001b[0mapp\u001b[0m\u001b[1;33m,\u001b[0m \u001b[0mlaunchKey\u001b[0m\u001b[1;33m=\u001b[0m\u001b[0mlaunchKey\u001b[0m\u001b[1;33m)\u001b[0m\u001b[1;33m\u001b[0m\u001b[0m\n\u001b[0m\u001b[0;32m    417\u001b[0m \u001b[1;33m\u001b[0m\u001b[0m\n\u001b[0;32m    418\u001b[0m \u001b[1;33m\u001b[0m\u001b[0m\n",
      "\u001b[1;32m/home/main/anaconda2/envs/python3/lib/python3.5/site-packages/music21/converter/subConverters.py\u001b[0m in \u001b[0;36mlaunch\u001b[1;34m(self, filePath, fmt, options, app, launchKey)\u001b[0m\n\u001b[0;32m    157\u001b[0m                     \u001b[1;34m\"Specify this in your Environment by calling \"\u001b[0m\u001b[1;33m\u001b[0m\u001b[0m\n\u001b[0;32m    158\u001b[0m                     \"environment.set({!r}, '/path/to/application')\".format(\n\u001b[1;32m--> 159\u001b[1;33m                         fmt, launchKey))\n\u001b[0m\u001b[0;32m    160\u001b[0m         \u001b[1;32melif\u001b[0m \u001b[0mplatform\u001b[0m \u001b[1;33m==\u001b[0m \u001b[1;34m'win'\u001b[0m\u001b[1;33m:\u001b[0m  \u001b[1;31m# note extra set of quotes!\u001b[0m\u001b[1;33m\u001b[0m\u001b[0m\n\u001b[0;32m    161\u001b[0m             \u001b[0mcmd\u001b[0m \u001b[1;33m=\u001b[0m \u001b[1;34m'\"\"%s\" %s \"%s\"\"'\u001b[0m \u001b[1;33m%\u001b[0m \u001b[1;33m(\u001b[0m\u001b[0mapp\u001b[0m\u001b[1;33m,\u001b[0m \u001b[0moptions\u001b[0m\u001b[1;33m,\u001b[0m \u001b[0mfilePath\u001b[0m\u001b[1;33m)\u001b[0m\u001b[1;33m\u001b[0m\u001b[0m\n",
      "\u001b[1;31mSubConverterException\u001b[0m: Cannot find a valid application path for format pdf. Specify this in your Environment by calling environment.set('pdfPath', '/path/to/application')"
     ]
    }
   ],
   "source": [
    "#following should now work but issues...?\n",
    "%load_ext music21.ipython21\n",
    "from music21 import *\n",
    "c = chord.Chord(\"C4 E4 G4\")\n",
    "c.isConsonant()\n",
    "c.show('lily.pdf')"
   ]
  },
  {
   "cell_type": "code",
   "execution_count": null,
   "metadata": {
    "collapsed": true
   },
   "outputs": [],
   "source": []
  }
 ],
 "metadata": {
  "kernelspec": {
   "display_name": "Python 3",
   "language": "python",
   "name": "python3"
  },
  "language_info": {
   "codemirror_mode": {
    "name": "ipython",
    "version": 3
   },
   "file_extension": ".py",
   "mimetype": "text/x-python",
   "name": "python",
   "nbconvert_exporter": "python",
   "pygments_lexer": "ipython3",
   "version": "3.5.2"
  }
 },
 "nbformat": 4,
 "nbformat_minor": 0
}
