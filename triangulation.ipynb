{
 "cells": [
  {
   "cell_type": "markdown",
   "metadata": {},
   "source": [
    "# Triangulation Calculation\n",
    "\n",
    "\n",
    "*(Note that in the mybinder demo, Latex expresions donlt render correctly and display a vertical line at the right hand edge of each expression.)*\n",
    "\n",
    "![](images/Locate_Yourself_-_TM112_Block_2_Part_6_-_Google_Docs.png)"
   ]
  },
  {
   "cell_type": "code",
   "execution_count": 1,
   "metadata": {
    "collapsed": true
   },
   "outputs": [],
   "source": [
    "#We will make use of some maths expressions in this notebook\n",
    "import math\n",
    "from math import sin, cos\n",
    "#Note that trigonometric functions are defined to use radians rather than degrees"
   ]
  },
  {
   "cell_type": "markdown",
   "metadata": {},
   "source": [
    "If the bearing is 45 degrees, we have: $$180° = 90° + 45° + B$$"
   ]
  },
  {
   "cell_type": "code",
   "execution_count": 2,
   "metadata": {
    "collapsed": false
   },
   "outputs": [
    {
     "data": {
      "text/plain": [
       "45"
      ]
     },
     "execution_count": 2,
     "metadata": {},
     "output_type": "execute_result"
    }
   ],
   "source": [
    "B=180-90-45\n",
    "B"
   ]
  },
  {
   "cell_type": "markdown",
   "metadata": {},
   "source": [
    "Similarly, if we measure the bearing from C to A to be 15 degrees West, the internal angle at A is 90 - 15 = 75 degrees."
   ]
  },
  {
   "cell_type": "code",
   "execution_count": 3,
   "metadata": {
    "collapsed": false
   },
   "outputs": [
    {
     "data": {
      "text/plain": [
       "75"
      ]
     },
     "execution_count": 3,
     "metadata": {},
     "output_type": "execute_result"
    }
   ],
   "source": [
    "A = 90 - 15\n",
    "A"
   ]
  },
  {
   "cell_type": "markdown",
   "metadata": {},
   "source": [
    "$$C = 180° - (A + B) = 180° - (75° + 45°) = 180° - 120° = 60°$$"
   ]
  },
  {
   "cell_type": "code",
   "execution_count": 4,
   "metadata": {
    "collapsed": false
   },
   "outputs": [
    {
     "data": {
      "text/plain": [
       "60"
      ]
     },
     "execution_count": 4,
     "metadata": {},
     "output_type": "execute_result"
    }
   ],
   "source": [
    "C=180-(75+45)\n",
    "C"
   ]
  },
  {
   "cell_type": "markdown",
   "metadata": {},
   "source": [
    "A law known as The Law of Sines allows us to calculate the distances the points A and B from the third point.\n",
    "\n",
    "$$ \\frac{a}{sin A} = \\frac{b}{sin B} =  \\frac{c}{sin C}$$\n",
    "\n",
    "So the length of side b going between points A and C can be calculated as:\n",
    "\n",
    "$$ \\frac{b}{sin B} = \\frac{c}{sin C}$$\n",
    "\n",
    "Inserting the numbers, we get:\n",
    "\n",
    "$$ \\frac{b}{sin 45°} = \\frac{27404}{sin 60°}$$\n",
    "\n",
    "Rearranging:\n",
    "\n",
    "$$ b = sin 45° . \\bigg(\\frac{27404}{sin 60°}\\bigg)$$"
   ]
  },
  {
   "cell_type": "code",
   "execution_count": 12,
   "metadata": {
    "collapsed": false
   },
   "outputs": [
    {
     "data": {
      "text/plain": [
       "22375.2723037434"
      ]
     },
     "execution_count": 12,
     "metadata": {},
     "output_type": "execute_result"
    }
   ],
   "source": [
    "#In python we need to convert to radians to use trigonometric functions\n",
    "b= sin(math.radians(45)) * (27404/sin(math.radians(60)))\n",
    "b"
   ]
  },
  {
   "cell_type": "code",
   "execution_count": 13,
   "metadata": {
    "collapsed": false
   },
   "outputs": [
    {
     "data": {
      "text/plain": [
       "30565.190383507852"
      ]
     },
     "execution_count": 13,
     "metadata": {},
     "output_type": "execute_result"
    }
   ],
   "source": [
    "#Similarly, find length of side A connecting C with B. (The side is named after the opposing angle.)\n",
    "b= sin(math.radians(75)) * (27404/sin(math.radians(60)))\n",
    "b"
   ]
  },
  {
   "cell_type": "markdown",
   "metadata": {},
   "source": [
    "Alternatively, can define a function to handle this for us automatically:"
   ]
  },
  {
   "cell_type": "code",
   "execution_count": 8,
   "metadata": {
    "collapsed": true
   },
   "outputs": [],
   "source": [
    "def sind(d):\n",
    "    return sin(math.radians(d))\n",
    "\n",
    "def cosd(d):\n",
    "    return cos(math.radians(d))"
   ]
  },
  {
   "cell_type": "code",
   "execution_count": 14,
   "metadata": {
    "collapsed": false
   },
   "outputs": [
    {
     "data": {
      "text/plain": [
       "22375.2723037434"
      ]
     },
     "execution_count": 14,
     "metadata": {},
     "output_type": "execute_result"
    }
   ],
   "source": [
    "b= sind(45) * (27404/sind(60))\n",
    "b"
   ]
  },
  {
   "cell_type": "code",
   "execution_count": 16,
   "metadata": {
    "collapsed": false
   },
   "outputs": [
    {
     "data": {
      "text/plain": [
       "(5791.281233033176, 3387.2812330331726)"
      ]
     },
     "execution_count": 16,
     "metadata": {},
     "output_type": "execute_result"
    }
   ],
   "source": [
    "#Calculate the co-ordinates of the unknown point\n",
    "#Use the distance and the bearing to a point with known co-ordinates\n",
    "#Remember your trigonometry: SOH, CAH, TOA\n",
    "27404 - 30565 * sind(45), 25000 - 30565 * cosd(45)"
   ]
  },
  {
   "cell_type": "code",
   "execution_count": 17,
   "metadata": {
    "collapsed": false
   },
   "outputs": [
    {
     "data": {
      "text/plain": [
       "(5791.076134168901, 3387.4096367820966)"
      ]
     },
     "execution_count": 17,
     "metadata": {},
     "output_type": "execute_result"
    }
   ],
   "source": [
    "#Check against the other known point:\n",
    "0 - 22375 * sind(-15), 25000 - 22375 * cosd(15) "
   ]
  },
  {
   "cell_type": "code",
   "execution_count": 21,
   "metadata": {
    "collapsed": true
   },
   "outputs": [],
   "source": [
    "#Simple trigonometry also allows us to take into account situations where A and B do not have the same latitude\n",
    "#Generally, the bearing measured clockwise from North from A to B takes the form\n",
    "#tan(bearing) = xB - xA , yb - yA\n",
    "#To ensure that the tangent function value is calculated correctly depending on the quadrant the offset point lies in\n",
    "#the convention is to use to atan2 function (https://en.wikipedia.org/wiki/Atan2):\n",
    "#bearing = atan2(xB - xA, yb - yA)\n",
    "\n",
    "#Having calculated the bearing from A to B, this can be added in to the angle calculations\n",
    "\n",
    "#Note that these approximations only work for a regular Cartesian co-ordinate system on a flat surface\n",
    "#For actual latitude and longitude calculations, the cirvature of the Earth;s surface must be taken into account.\n",
    "#See for example:\n",
    "##http://www.igismap.com/formula-to-find-bearing-or-heading-angle-between-two-points-latitude-longitude/\n",
    "##http://mathforum.org/library/drmath/view/55417.html\n",
    "##http://williams.best.vwh.net/avform.htm#flat"
   ]
  },
  {
   "cell_type": "markdown",
   "metadata": {},
   "source": [
    "We could add in generalised calculations here as a worked interactive example, perhaps with a graphical UI. See below for preliminary sketches."
   ]
  },
  {
   "cell_type": "code",
   "execution_count": 22,
   "metadata": {
    "collapsed": true
   },
   "outputs": [],
   "source": [
    "#Ignore warnings raised by matplotlib\n",
    "import warnings\n",
    "warnings.filterwarnings(\"ignore\")"
   ]
  },
  {
   "cell_type": "code",
   "execution_count": 23,
   "metadata": {
    "collapsed": false
   },
   "outputs": [],
   "source": [
    "%matplotlib inline\n",
    "import matplotlib.pyplot as plt"
   ]
  },
  {
   "cell_type": "code",
   "execution_count": 24,
   "metadata": {
    "collapsed": true
   },
   "outputs": [],
   "source": [
    "def charter(a, b, c):\n",
    "    fig = plt.figure()\n",
    "    ax = fig.add_subplot(111)\n",
    "    \n",
    "    plt.plot([a[0],b[0]],[a[1],b[1]],'x--',color='red')\n",
    "    plt.plot([b[0],c[0]],[b[1],c[1]],'x--',color='green')\n",
    "    plt.plot([a[0],c[0]],[a[1],c[1]],'x--',color='blue')\n",
    "    \n",
    "    xmin=min([a[0],b[0],c[0]])-1\n",
    "    ymin=min([a[1],b[1],c[1]])-1\n",
    "    xmax=max([a[0],b[0],c[0]])+1\n",
    "    ymax=max([a[1],b[1],c[1]])+1\n",
    "    \n",
    "    ax.annotate('A',xy=a)\n",
    "    ax.annotate('B',xy=b)\n",
    "    ax.annotate('C',xy=c)\n",
    "    \n",
    "    plt.xlim(xmin,xmax)\n",
    "    plt.ylim(ymin,ymax)\n",
    "    \n",
    "    "
   ]
  },
  {
   "cell_type": "code",
   "execution_count": 25,
   "metadata": {
    "collapsed": false
   },
   "outputs": [
    {
     "data": {
      "text/plain": [
       "<function __main__.interactive_charter>"
      ]
     },
     "execution_count": 25,
     "metadata": {},
     "output_type": "execute_result"
    },
    {
     "data": {
      "image/png": "[encoded data removed]",
      "text/plain": [
       "<matplotlib.figure.Figure at 0x7ff4b9525cf8>"
      ]
     },
     "metadata": {},
     "output_type": "display_data"
    }
   ],
   "source": [
    "from ipywidgets import interact\n",
    "def interactive_charter(xA=1.0,yA=1.0,xB=2.0,yB=2.0,xC=1.5,yC=1.1):\n",
    "    charter((xA,yA),(xB,yB),(xC,yC))\n",
    "    \n",
    "    \n",
    "interact(interactive_charter, xA=(0.0,4.0),yA=(0.0,4.0),xB=(0.0,4.0),yB=(0.0,4.0),xC=(0.0,4.0),yC=(0.0,4.0))"
   ]
  },
  {
   "cell_type": "markdown",
   "metadata": {},
   "source": [
    "I wonder if we should have an interactive here where students can move the locations of A and B and specify a bearing to each from C, and display graphical working for the calculation, along with the co-ordinates of C. Learners could then try to do the actual calcuations themselves and check back against the diagram?"
   ]
  },
  {
   "cell_type": "markdown",
   "metadata": {},
   "source": [
    "## Explorations of Worked Example using Sympy\n",
    "\n",
    "Some notes on the extent to which we might be able to use `sympy` to work through maths examples.\n",
    "\n",
    "With a notebook extension, we could also inline the rendered sympy - and the reseults of the calculations in the markdown cells."
   ]
  },
  {
   "cell_type": "code",
   "execution_count": 26,
   "metadata": {
    "collapsed": false
   },
   "outputs": [],
   "source": [
    "#Import sympy packages\n",
    "from sympy import *\n",
    "#Set the notebook up for displaying maths notation - NOTE: Latex rendering buggy in the mybinder notebooks\n",
    "from sympy import init_printing\n",
    "init_printing()\n",
    "\n",
    "a,b,c,A,B,C=symbols(['a','b','c','A','B','C'])"
   ]
  },
  {
   "cell_type": "code",
   "execution_count": 27,
   "metadata": {
    "collapsed": false
   },
   "outputs": [
    {
     "data": {
      "image/png": "[encoded data removed]",
      "text/latex": [
       "$$\\frac{a}{\\sin{\\left (A \\right )}} = \\frac{b}{\\sin{\\left (B \\right )}} = \\frac{c}{\\sin{\\left (C \\right )}}$$"
      ],
      "text/plain": [
       "  a        b        c   \n",
       "────── = ────── = ──────\n",
       "sin(A)   sin(B)   sin(C)"
      ]
     },
     "execution_count": 27,
     "metadata": {},
     "output_type": "execute_result"
    }
   ],
   "source": [
    "#The Sine Rule\n",
    "exp=Eq(Eq(a/sin(A),b/sin(B)),c/sin(C))\n",
    "exp"
   ]
  },
  {
   "cell_type": "code",
   "execution_count": 28,
   "metadata": {
    "collapsed": false
   },
   "outputs": [
    {
     "data": {
      "image/png": "[encoded data removed]",
      "text/latex": [
       "$$\\frac{b}{\\sin{\\left (B \\right )}} = \\frac{c}{\\sin{\\left (C \\right )}}$$"
      ],
      "text/plain": [
       "  b        c   \n",
       "────── = ──────\n",
       "sin(B)   sin(C)"
      ]
     },
     "execution_count": 28,
     "metadata": {},
     "output_type": "execute_result"
    }
   ],
   "source": [
    "#For the simpler case, eg:\n",
    "exp=Eq(b/sin(B),c/sin(C))\n",
    "exp"
   ]
  },
  {
   "cell_type": "code",
   "execution_count": 29,
   "metadata": {
    "collapsed": false
   },
   "outputs": [
    {
     "data": {
      "image/png": "[encoded data removed]",
      "text/latex": [
       "$$b = \\frac{c \\sin{\\left (B \\right )}}{\\sin{\\left (C \\right )}}$$"
      ],
      "text/plain": [
       "    c⋅sin(B)\n",
       "b = ────────\n",
       "     sin(C) "
      ]
     },
     "execution_count": 29,
     "metadata": {},
     "output_type": "execute_result"
    }
   ],
   "source": [
    "#We can solve for a:\n",
    "Eq(b,solve(exp)[0][b])"
   ]
  },
  {
   "cell_type": "code",
   "execution_count": 31,
   "metadata": {
    "collapsed": false
   },
   "outputs": [
    {
     "data": {
      "image/png": "[encoded data removed]",
      "text/latex": [
       "$$b = \\frac{c \\sin{\\left (B \\right )}}{\\sin{\\left (C \\right )}} = 22375.2723037434$$"
      ],
      "text/plain": [
       "    c⋅sin(B)                   \n",
       "b = ──────── = 22375.2723037434\n",
       "     sin(C)                    "
      ]
     },
     "execution_count": 31,
     "metadata": {},
     "output_type": "execute_result"
    }
   ],
   "source": [
    "#Then we can substitute in values\n",
    "distance=solve(exp)[0][b]\n",
    "Eq(Eq(b,distance),distance.subs({c:27404,B:math.radians(45),C:math.radians(60)}))"
   ]
  },
  {
   "cell_type": "code",
   "execution_count": 32,
   "metadata": {
    "collapsed": false
   },
   "outputs": [],
   "source": [
    "#Find the location\n",
    "#If the co-ords of A are x and y\n",
    "xA,xB,xC,yA,yB,yC, dA, dB, hA, hB = symbols(['x_A','x_B','x_C','y_A','y_B','y_C','d_A','d_B', 'h_A','h_B'])\n",
    "#dA - distance to A\n",
    "#hA - bearing to A"
   ]
  },
  {
   "cell_type": "code",
   "execution_count": 34,
   "metadata": {
    "collapsed": false
   },
   "outputs": [],
   "source": [
    "_dA=distance.subs({c:27404,B:math.radians(45),C:math.radians(60)})\n",
    "_hA=math.radians(-15)"
   ]
  },
  {
   "cell_type": "code",
   "execution_count": 35,
   "metadata": {
    "collapsed": false
   },
   "outputs": [
    {
     "data": {
      "image/png": "[encoded data removed]",
      "text/latex": [
       "$$x_{C} = - d_{A} \\sin{\\left (h_{A} \\right )} + x_{A} = 5791.14661156375$$"
      ],
      "text/plain": [
       "x_C = -d_A⋅sin(h_A) + x_A = 5791.14661156375"
      ]
     },
     "execution_count": 35,
     "metadata": {},
     "output_type": "execute_result"
    }
   ],
   "source": [
    "#Find the x co-ordinate for C, relative to the distance from, and bearing to, A at (xA,yA):\n",
    "xval=(xA - dA * sin(hA))\n",
    "#Substitute in the distance and bearing to, and the x-co-ordinate of, A\n",
    "Eq(Eq(xC,xval),xval.subs({dA:_dA,hA:_hA,xA:0}))"
   ]
  },
  {
   "cell_type": "code",
   "execution_count": 37,
   "metadata": {
    "collapsed": false
   },
   "outputs": [
    {
     "data": {
      "image/png": "[encoded data removed]",
      "text/latex": [
       "$$y_{C} = - d_{A} \\cos{\\left (h_{A} \\right )} + y_{A} = 3387.14661156375$$"
      ],
      "text/plain": [
       "y_C = -d_A⋅cos(h_A) + y_A = 3387.14661156375"
      ]
     },
     "execution_count": 37,
     "metadata": {},
     "output_type": "execute_result"
    }
   ],
   "source": [
    "#Find the y co-ordinate for C, relative to the distance from, and bearing to, A at (xA,yA):\n",
    "yval=(yA - dA * cos(hA))\n",
    "#Substitute in the distance and bearing to, and the y-co-ordinate of, A\n",
    "Eq(Eq(yC,yval),yval.subs({dA:_dA,hA:_hA,yA:25000}))"
   ]
  },
  {
   "cell_type": "code",
   "execution_count": null,
   "metadata": {
    "collapsed": true
   },
   "outputs": [],
   "source": []
  },
  {
   "cell_type": "code",
   "execution_count": null,
   "metadata": {
    "collapsed": true
   },
   "outputs": [],
   "source": []
  }
 ],
 "metadata": {
  "kernelspec": {
   "display_name": "Python 3",
   "language": "python",
   "name": "python3"
  },
  "language_info": {
   "codemirror_mode": {
    "name": "ipython",
    "version": 3
   },
   "file_extension": ".py",
   "mimetype": "text/x-python",
   "name": "python",
   "nbconvert_exporter": "python",
   "pygments_lexer": "ipython3",
   "version": "3.5.2"
  }
 },
 "nbformat": 4,
 "nbformat_minor": 0
}
