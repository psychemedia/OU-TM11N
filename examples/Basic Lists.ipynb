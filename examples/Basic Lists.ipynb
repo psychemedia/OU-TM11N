{
 "cells": [
  {
   "attachments": {},
   "cell_type": "markdown",
   "metadata": {},
   "source": [
    "# Basic Lists (Block 2, Part 2)\n",
    "\n",
    "In this notebook, you will learn how to use a very powerful, and flexible, Python data structure: a `list`.\n",
    "\n",
    "Recall how you generated a sequence of values in a previous activity:\n",
    "\n",
    "1. initialise the inputs\n",
    "2. set value to the first value of the sequence\n",
    "3. print value\n",
    "4. while the termination condition is not true:\n",
    "    1. set value to the next value of the sequence\n",
    "    2. print value\n",
    "\n",
    "The following lines of code implement that algorithm. Run the cell to see the output."
   ]
  },
  {
   "cell_type": "code",
   "execution_count": 4,
   "metadata": {},
   "outputs": [
    {
     "name": "stdout",
     "output_type": "stream",
     "text": [
      "Outstanding mortgage:, mortgage\n",
      "Outstanding mortgage: 804.1666666666666\n",
      "Outstanding mortgage: 607.5173611111111\n",
      "Outstanding mortgage: 410.048683449074\n",
      "Outstanding mortgage: 211.75721963011182\n",
      "Outstanding mortgage: 12.639541378570613\n",
      "Outstanding mortgage: -187.30779386568534\n"
     ]
    }
   ],
   "source": [
    "# Problem: generate the monthly outstanding mortgage\n",
    "\n",
    "# Input: annual loan rate, a floating point percentage\n",
    "rate = 0.05\n",
    "# Input: monthly payment, a positive integer in a currency\n",
    "payment = 200\n",
    "# Input/Output: mortgage, a positive number in same currency\n",
    "mortgage = 1000\n",
    "\n",
    "print('Outstanding mortgage:, mortgage')\n",
    "while not (mortgage == 0 or mortgage < 0):\n",
    "    interest = mortgage * rate / 12\n",
    "    mortgage = mortgage + interest - payment\n",
    "    print('Outstanding mortgage:', mortgage)"
   ]
  },
  {
   "cell_type": "markdown",
   "metadata": {},
   "source": [
    "*Comparing the program to the pattern, what do you notice?*\n",
    "\n",
    "\n",
    "### Answer\n",
    "The program differs in two slight respects. First, we have defined some constant values to represent the has merged steps 1 and 2 of the pattern. The first value of the outstanding mortgage is not calculated from the inputs, it already is one of the input values."
   ]
  },
  {
   "cell_type": "markdown",
   "metadata": {},
   "source": [
    "### Self-assessment activity 1.1.2: sequence termination\n",
    "\n",
    "How could step 4 of Pattern 1.1.1 be rephrased? What would be the corresponding Boolean expression of the while-loop?\n",
    "\n",
    "__TEACHING NOTE: Jupyter notebooks support an extension that allows for one or more cells to be revealed as part of an exercise: [nbextensions/exercise](https://github.com/ipython-contrib/jupyter_contrib_nbextensions/tree/master/src/jupyter_contrib_nbextensions/nbextensions/exercise).__\n",
    "\n",
    "### Answer\n",
    "As explained in Section 5.2 of Block 1 Part 4, the condition for a while loop can be seen as a termination condition that can’t be true or a continuation condition that must be true. Step 4 could be hence be phrased as “while the continuation condition is true”. For this problem, we continue to compute the monthly interest while there is an outstanding mortgage, i.e. while its value is positive. The corresponding line of code would therefore be  `while mortgage > 0:`"
   ]
  },
  {
   "cell_type": "code",
   "execution_count": 8,
   "metadata": {},
   "outputs": [
    {
     "name": "stdout",
     "output_type": "stream",
     "text": [
      "Outstanding mortgage:, mortgage\n",
      "Outstanding mortgage: 804.1666666666666\n",
      "Outstanding mortgage: 607.5173611111111\n",
      "Outstanding mortgage: 410.048683449074\n",
      "Outstanding mortgage: 211.75721963011182\n",
      "Outstanding mortgage: 12.639541378570613\n",
      "Outstanding mortgage: -187.30779386568534\n"
     ]
    }
   ],
   "source": [
    "# Reset the original mortgage value (the rate and payment are the same)\n",
    "mortgage = 1000\n",
    "\n",
    "print('Outstanding mortgage:, mortgage')\n",
    "while mortgage > 0:\n",
    "    interest = mortgage * rate / 12\n",
    "    mortgage = mortgage + interest - payment\n",
    "    print('Outstanding mortgage:', mortgage)"
   ]
  },
  {
   "attachments": {},
   "cell_type": "markdown",
   "metadata": {},
   "source": [
    "## Lists\n",
    "\n",
    "Lists are declared in Python using square brackets. An empty list is defined as `[]`. An example of a list with three numbers is `[4, 2.6, -9]`. Lists can be assigned to variables:"
   ]
  },
  {
   "cell_type": "code",
   "execution_count": 11,
   "metadata": {},
   "outputs": [
    {
     "data": {
      "text/plain": [
       "[4, 2.6, -9]"
      ]
     },
     "execution_count": 11,
     "metadata": {},
     "output_type": "execute_result"
    }
   ],
   "source": [
    "a_list = [4, 2.6, -9]\n",
    "a_list"
   ]
  },
  {
   "cell_type": "markdown",
   "metadata": {},
   "source": [
    "We can check the variable type of `a_list` using the Python `type()` function:"
   ]
  },
  {
   "cell_type": "code",
   "execution_count": 27,
   "metadata": {},
   "outputs": [
    {
     "data": {
      "text/plain": [
       "list"
      ]
     },
     "execution_count": 27,
     "metadata": {},
     "output_type": "execute_result"
    }
   ],
   "source": [
    "type(a_list)"
   ]
  },
  {
   "attachments": {},
   "cell_type": "markdown",
   "metadata": {},
   "source": [
    "The length of a list is its number of elements. The Python expression `len(a_list)` computes the length of `a_list`, which in this case is length 3."
   ]
  },
  {
   "cell_type": "code",
   "execution_count": 12,
   "metadata": {},
   "outputs": [
    {
     "data": {
      "text/plain": [
       "3"
      ]
     },
     "execution_count": 12,
     "metadata": {},
     "output_type": "execute_result"
    }
   ],
   "source": [
    "len(a_list)"
   ]
  },
  {
   "cell_type": "markdown",
   "metadata": {},
   "source": [
    "In Python and many other languages the positions (also called indexes) of items start from 0, not 1. Continuing with the `a_list` example, number *4* is at position *0*, number *2.6* at position *1*, and *-9* at position *2*. In general terms, if a list has length n, the elements are in positions *0* to *n-1*.\n",
    "\n",
    "The expression `a_list[p]` refers to the item with index value `p` in a_list. For example, `a_list[0]` returns the first (0th indexed), in this case *4* and `a_list[2]` has value `-9`."
   ]
  },
  {
   "cell_type": "code",
   "execution_count": 16,
   "metadata": {},
   "outputs": [
    {
     "name": "stdout",
     "output_type": "stream",
     "text": [
      "First item: 4 , third item: -9\n"
     ]
    }
   ],
   "source": [
    "print(\"First item:\",a_list[0], \", third item:\",a_list[2])"
   ]
  },
  {
   "cell_type": "markdown",
   "metadata": {},
   "source": [
    "**original content doesn't do this?**\n",
    "\n",
    "We can also index counting back from the end of the list. In this case, index -1 refers to the last item in the list and index value -2 the last but one item:"
   ]
  },
  {
   "cell_type": "code",
   "execution_count": 18,
   "metadata": {},
   "outputs": [
    {
     "name": "stdout",
     "output_type": "stream",
     "text": [
      "Last item: -9 , last but one item: 2.6\n"
     ]
    }
   ],
   "source": [
    "print(\"Last item:\",a_list[-1], \", last but one item:\",a_list[-2])"
   ]
  },
  {
   "cell_type": "markdown",
   "metadata": {},
   "source": [
    "The expression `range(start, end)` generates all numbers from start up to `end-1`. It can be used to go through all the items in a list with `n` items, from position `0` to position `n-1`.\n",
    "\n",
    "Here is some code to print the items in `a_list`, one per line:"
   ]
  },
  {
   "cell_type": "code",
   "execution_count": 19,
   "metadata": {},
   "outputs": [
    {
     "name": "stdout",
     "output_type": "stream",
     "text": [
      "4\n",
      "2.6\n",
      "-9\n"
     ]
    }
   ],
   "source": [
    "for position in range(0, len(a_list)):\n",
    "    print(a_list[position])"
   ]
  },
  {
   "cell_type": "markdown",
   "metadata": {},
   "source": [
    "We can also iterate directly through the values in a list and then perform some action on them:\n",
    "\n",
    "**original content doesn't do this?**"
   ]
  },
  {
   "cell_type": "code",
   "execution_count": 30,
   "metadata": {},
   "outputs": [
    {
     "name": "stdout",
     "output_type": "stream",
     "text": [
      "4 + 100 = 104\n",
      "2.6 + 100 = 102.6\n",
      "-9 + 100 = 91\n",
      "12 + 100 = 112\n",
      "30 + 100 = 130\n"
     ]
    }
   ],
   "source": [
    "for an_item in a_list:\n",
    "    print( an_item, '+ 100 =', an_item + 100)"
   ]
  },
  {
   "attachments": {},
   "cell_type": "markdown",
   "metadata": {},
   "source": [
    "## Adding Items to a List\n",
    "\n",
    "Having recapped the sequence generation pattern and how Python lists are used, we are ready to combine both. Normally the generated sequence has to be stored for further processing, and lists are ideally suited for that. Storing the generated sequence in a list requires just two changes to Pattern 1.1.1:\n",
    "\n",
    "- Start with the empty list.\n",
    "- Instead of (or in addition to) printing the value, append it to the list, i.e. add it to the end of the list.\n",
    "\n",
    "\n",
    "By appending each value, the list will store the values in the same order as they were generated. Here is Pattern 1.1.1 with the above changes to print the whole sequence at the end, instead of value by value as they are generated.\n",
    "\n",
    "### Pattern 1.2.1: list generation\n",
    "\n",
    "1.\tinitialise the inputs\n",
    "2.\tset value to the first value of the sequence\n",
    "3.\tset the sequence to the empty list\n",
    "4.\tappend value to the sequence\n",
    "5.\twhile the termination condition is not true:\n",
    "a.\tset value to the next value of the sequence\n",
    "b.\tappend value to the sequence\n",
    "6.\tprint the sequence\n",
    "\n",
    "In Python, we can append `a_value` to the end of `a_list` using the list `.append()` method: `a_list.append(a_value)`:\n",
    "\n",
    "**original content doesn't do this?**"
   ]
  },
  {
   "cell_type": "code",
   "execution_count": 20,
   "metadata": {},
   "outputs": [
    {
     "data": {
      "text/plain": [
       "[4, 2.6, -9, 12]"
      ]
     },
     "execution_count": 20,
     "metadata": {},
     "output_type": "execute_result"
    }
   ],
   "source": [
    "a_value = 12\n",
    "\n",
    "a_list.append(a_value)\n",
    "a_list"
   ]
  },
  {
   "cell_type": "markdown",
   "metadata": {},
   "source": [
    "Note that we do not need to use the assignment (=) operator to update the value of the list. The `.append()` operator updates the value of `alist` directly."
   ]
  },
  {
   "cell_type": "markdown",
   "metadata": {},
   "source": [
    "We can also append items to a list by including them in a second list and then adding the lists together."
   ]
  },
  {
   "cell_type": "code",
   "execution_count": 22,
   "metadata": {},
   "outputs": [
    {
     "data": {
      "text/plain": [
       "[4, 2.6, -9, 12, 30]"
      ]
     },
     "execution_count": 22,
     "metadata": {},
     "output_type": "execute_result"
    }
   ],
   "source": [
    "another_value = 30\n",
    "\n",
    "a_list  = a_list + [another_value]\n",
    "a_list"
   ]
  },
  {
   "cell_type": "markdown",
   "metadata": {},
   "source": [
    "In this case, we __do__ need to make explicit use of the assignment operator to update the value of `a_list`.\n",
    "\n",
    "#### Overloaded `+` Operator\n",
    "We also say that the `+` operator we are using is *overloaded*. That is, it behaves differently depending on the type of objects that are being added together. For example:\n",
    "\n",
    "- where two numbers are added together the + operator performs a numerical sum;\n",
    "- where two strings are added together, the right hand string is concatenated on to the end of the left hand string;\n",
    "- where two lists are added together, the members of the second list are appended, in turn, to the end of the first list on the left-hand side."
   ]
  },
  {
   "cell_type": "markdown",
   "metadata": {},
   "source": [
    "### Exploratory activity 1.2.1: mortgage (as a list)\n",
    "\n",
    "Modify Program 1.1.1 so that it includes steps 3, 4, 5.b and 6 of Pattern 1.2.1, i.e. the monthly outstanding mortgage values should only be printed at the end, as a list.\n",
    "\n",
    "#### Discussion\n",
    "You should have obtained something similar to the following. To simplify the code, I used the continuation condition instead of the negation of the termination condition.\n",
    "\n",
    "__TEACHING NOTE: Jupyter notebooks support an extension that allows for one or more cells, which may include code cells, to be revealed as part of an exercise: [nbextensions/exercise](https://github.com/ipython-contrib/jupyter_contrib_nbextensions/tree/master/src/jupyter_contrib_nbextensions/nbextensions/exercise).__"
   ]
  },
  {
   "cell_type": "code",
   "execution_count": 26,
   "metadata": {},
   "outputs": [
    {
     "name": "stdout",
     "output_type": "stream",
     "text": [
      "Outstanding mortgage, month by month: [1000, 804.1666666666666, 607.5173611111111, 410.048683449074, 211.75721963011182, 12.639541378570613, -187.30779386568534]\n"
     ]
    }
   ],
   "source": [
    "# Problem: generate the monthly outstanding mortgage\n",
    "\n",
    "# Input: annual loan rate, a positive floating point\n",
    "rate = 0.05\n",
    "# Input: monthly payment, a positive integer in a currency\n",
    "payment = 200\n",
    "# Input: mortgage, a positive number in same currency\n",
    "mortgage = 1000\n",
    "\n",
    "# Output: list of monthly outstanding mortgage amounts\n",
    "outstanding = []\n",
    "\n",
    "outstanding = outstanding + [mortgage]\n",
    "while mortgage > 0:\n",
    "    interest = mortgage * rate / 12\n",
    "    mortgage = mortgage + interest - payment\n",
    "    \n",
    "    #This is HORRIBLE\n",
    "    outstanding = outstanding + [mortgage]\n",
    "    #should really .append()\n",
    "    #outstanding.append(mortgage)\n",
    "\n",
    "print('Outstanding mortgage, month by month:', outstanding)"
   ]
  },
  {
   "cell_type": "code",
   "execution_count": null,
   "metadata": {
    "collapsed": true
   },
   "outputs": [],
   "source": []
  },
  {
   "cell_type": "code",
   "execution_count": null,
   "metadata": {
    "collapsed": true
   },
   "outputs": [],
   "source": []
  },
  {
   "attachments": {},
   "cell_type": "markdown",
   "metadata": {},
   "source": [
    "*Proving tables work too...*\n",
    "\n",
    "Exploratory activity 1.3.2 (Python editor): testing the hot days program\n",
    "Write a test table and run those tests on your program.\n",
    "Discussion\n",
    "The following tests cover the borderline values of the temperatures (30 and 31, for considering a day to be hot or not), of the input list, and of the output list.\n",
    "\n",
    "\n",
    "daily_temperatures\t| hot_days |\tComment\n",
    "----|----|----\n",
    "[] |\t[] |\t*smallest* input: empty list\n",
    "[25, 24, 22] |\t[] |\t*smallest* output: no hot days\n",
    "[31, 33]\t| [31, 33] |\t*largest* output: all days are hot\n",
    "[28, 30, 31, 30, 31, 32] |\t[31, 31, 32] |\t*borderline* temperatures\n"
   ]
  },
  {
   "cell_type": "code",
   "execution_count": null,
   "metadata": {
    "collapsed": true
   },
   "outputs": [],
   "source": []
  }
 ],
 "metadata": {
  "kernelspec": {
   "display_name": "Python 3",
   "language": "python",
   "name": "python3"
  },
  "language_info": {
   "codemirror_mode": {
    "name": "ipython",
    "version": 3
   },
   "file_extension": ".py",
   "mimetype": "text/x-python",
   "name": "python",
   "nbconvert_exporter": "python",
   "pygments_lexer": "ipython3",
   "version": "3.6.1"
  }
 },
 "nbformat": 4,
 "nbformat_minor": 2
}
