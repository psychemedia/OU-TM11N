{
 "cells": [
  {
   "cell_type": "markdown",
   "metadata": {},
   "source": [
    "# Playing With Dicts - Geolocation API Data\n",
    "\n",
    "In this notebook, you will have a chance to explore how Python `dict`s can be used to represent hierarchically structured data."
   ]
  },
  {
   "cell_type": "markdown",
   "metadata": {},
   "source": [
    "Python `dict`s are *associative arrays* that use *key: value* pairs. Data *value*s are with a unique *key*s and retrieved by referencing the key you are interested in.\n",
    "\n",
    "In a Python `dict`, the value associated with a particular key may itself be a `dict` structure, which gives us the notion of `nested dicts`.\n",
    "\n",
    "Although the data provided by the *postcodes.io* service is returned as a JSON data structure, it can be re-representd (*sic*) as a nested Python `dict`, as modeled below."
   ]
  },
  {
   "cell_type": "code",
   "execution_count": 4,
   "metadata": {
    "collapsed": true
   },
   "outputs": [],
   "source": [
    "postcode_dict = {'result': {'admin_county': None,\n",
    "                            'admin_district': 'Milton Keynes',\n",
    "                            'admin_ward': 'Monkston',\n",
    "                            'ccg': 'NHS Milton Keynes',\n",
    "                            'codes': {'admin_county': 'E99999999',\n",
    "                                      'admin_district': 'E06000042',\n",
    "                                      'admin_ward': 'E05009415',\n",
    "                                      'ccg': 'E38000107',\n",
    "                                      'nuts': 'UKJ12',\n",
    "                                      'parish': 'E04001275'},\n",
    "                            'country': 'England',\n",
    "                            'eastings': 488625,\n",
    "                            'european_electoral_region': 'South East',\n",
    "                            'incode': '6AA',\n",
    "                            'latitude': 52.0249147315159,\n",
    "                            'longitude': -0.709747474196332,\n",
    "                            'lsoa': 'Milton Keynes 017C',\n",
    "                            'msoa': 'Milton Keynes 017',\n",
    "                            'nhs_ha': 'South Central',\n",
    "                            'northings': 237063,\n",
    "                            'nuts': 'Milton Keynes',\n",
    "                            'outcode': 'MK7',\n",
    "                            'parish': 'Walton',\n",
    "                            'parliamentary_constituency': 'Milton Keynes South',\n",
    "                            'postcode': 'MK7 6AA',\n",
    "                            'primary_care_trust': 'Milton Keynes',\n",
    "                            'quality': 1,\n",
    "                            'region': 'South East'},\n",
    "                 'status': 200}"
   ]
  },
  {
   "cell_type": "markdown",
   "metadata": {},
   "source": [
    "We can access the body of the result by calling the `dict` using the `result` key value:"
   ]
  },
  {
   "cell_type": "code",
   "execution_count": 7,
   "metadata": {},
   "outputs": [
    {
     "data": {
      "text/plain": [
       "{'admin_county': None,\n",
       " 'admin_district': 'Milton Keynes',\n",
       " 'admin_ward': 'Monkston',\n",
       " 'ccg': 'NHS Milton Keynes',\n",
       " 'codes': {'admin_county': 'E99999999',\n",
       "  'admin_district': 'E06000042',\n",
       "  'admin_ward': 'E05009415',\n",
       "  'ccg': 'E38000107',\n",
       "  'nuts': 'UKJ12',\n",
       "  'parish': 'E04001275'},\n",
       " 'country': 'England',\n",
       " 'eastings': 488625,\n",
       " 'european_electoral_region': 'South East',\n",
       " 'incode': '6AA',\n",
       " 'latitude': 52.0249147315159,\n",
       " 'longitude': -0.709747474196332,\n",
       " 'lsoa': 'Milton Keynes 017C',\n",
       " 'msoa': 'Milton Keynes 017',\n",
       " 'nhs_ha': 'South Central',\n",
       " 'northings': 237063,\n",
       " 'nuts': 'Milton Keynes',\n",
       " 'outcode': 'MK7',\n",
       " 'parish': 'Walton',\n",
       " 'parliamentary_constituency': 'Milton Keynes South',\n",
       " 'postcode': 'MK7 6AA',\n",
       " 'primary_care_trust': 'Milton Keynes',\n",
       " 'quality': 1,\n",
       " 'region': 'South East'}"
      ]
     },
     "execution_count": 7,
     "metadata": {},
     "output_type": "execute_result"
    }
   ],
   "source": [
    "#You can use single or double quotes when passing the key\n",
    "postcode_dict['result']"
   ]
  },
  {
   "cell_type": "code",
   "execution_count": 8,
   "metadata": {},
   "outputs": [
    {
     "data": {
      "text/plain": [
       "{'admin_county': None,\n",
       " 'admin_district': 'Milton Keynes',\n",
       " 'admin_ward': 'Monkston',\n",
       " 'ccg': 'NHS Milton Keynes',\n",
       " 'codes': {'admin_county': 'E99999999',\n",
       "  'admin_district': 'E06000042',\n",
       "  'admin_ward': 'E05009415',\n",
       "  'ccg': 'E38000107',\n",
       "  'nuts': 'UKJ12',\n",
       "  'parish': 'E04001275'},\n",
       " 'country': 'England',\n",
       " 'eastings': 488625,\n",
       " 'european_electoral_region': 'South East',\n",
       " 'incode': '6AA',\n",
       " 'latitude': 52.0249147315159,\n",
       " 'longitude': -0.709747474196332,\n",
       " 'lsoa': 'Milton Keynes 017C',\n",
       " 'msoa': 'Milton Keynes 017',\n",
       " 'nhs_ha': 'South Central',\n",
       " 'northings': 237063,\n",
       " 'nuts': 'Milton Keynes',\n",
       " 'outcode': 'MK7',\n",
       " 'parish': 'Walton',\n",
       " 'parliamentary_constituency': 'Milton Keynes South',\n",
       " 'postcode': 'MK7 6AA',\n",
       " 'primary_care_trust': 'Milton Keynes',\n",
       " 'quality': 1,\n",
       " 'region': 'South East'}"
      ]
     },
     "execution_count": 8,
     "metadata": {},
     "output_type": "execute_result"
    }
   ],
   "source": [
    "#Keys can also be passed as string variables\n",
    "key=\"result\"\n",
    "\n",
    "postcode_dict[ key ]"
   ]
  },
  {
   "cell_type": "markdown",
   "metadata": {},
   "source": [
    "You may notice that the value associated with the *\"result\"* key in the *postcode_dict* `dict` is another dict:"
   ]
  },
  {
   "cell_type": "code",
   "execution_count": 9,
   "metadata": {},
   "outputs": [
    {
     "data": {
      "text/plain": [
       "dict"
      ]
     },
     "execution_count": 9,
     "metadata": {},
     "output_type": "execute_result"
    }
   ],
   "source": [
    "type( postcode_dict[ 'result' ] )"
   ]
  },
  {
   "cell_type": "markdown",
   "metadata": {},
   "source": [
    "To find the values of nested elements in the original data structure, we request a key from the currently selected `dict`:"
   ]
  },
  {
   "cell_type": "code",
   "execution_count": 10,
   "metadata": {},
   "outputs": [
    {
     "data": {
      "text/plain": [
       "'Milton Keynes South'"
      ]
     },
     "execution_count": 10,
     "metadata": {},
     "output_type": "execute_result"
    }
   ],
   "source": [
    "postcode_dict_result = postcode_dict[ 'result' ]\n",
    "postcode_dict_result['parliamentary_constituency']"
   ]
  },
  {
   "cell_type": "markdown",
   "metadata": {},
   "source": [
    "#### Exercise\n",
    "\n",
    "Try to pull out the value of the *European electoral region* from the `postcode_dict` variable."
   ]
  },
  {
   "cell_type": "code",
   "execution_count": null,
   "metadata": {
    "collapsed": true
   },
   "outputs": [],
   "source": [
    "#And the European electoral region is....\n",
    "\n",
    "#YOUR CODE HERE"
   ]
  },
  {
   "cell_type": "markdown",
   "metadata": {},
   "source": [
    "Which parish is the postcode associated with...?"
   ]
  },
  {
   "cell_type": "code",
   "execution_count": null,
   "metadata": {
    "collapsed": true
   },
   "outputs": [],
   "source": [
    "#YOUR CODE HERE\n"
   ]
  },
  {
   "cell_type": "markdown",
   "metadata": {},
   "source": [
    "...and what postcode does the data refer to?"
   ]
  },
  {
   "cell_type": "code",
   "execution_count": null,
   "metadata": {
    "collapsed": true
   },
   "outputs": [],
   "source": [
    "#YOUR CODE HERE\n"
   ]
  },
  {
   "cell_type": "markdown",
   "metadata": {},
   "source": [
    "__ TEACHING NOTE: there is an [exercise extension](https://github.com/ipython-contrib/jupyter_contrib_nbextensions/tree/master/src/jupyter_contrib_nbextensions/nbextensions/exercise) for notebooks that allow hidden/revealed cell exercises to be defined, so a hidden answer can be provided that a student can reveal when they've had a go themselves. __"
   ]
  },
  {
   "cell_type": "markdown",
   "metadata": {},
   "source": [
    "### Referencing Deep into a Nested `dict`\n",
    "\n",
    "To refernce items in one `dict` nested inside another, we can \"chain\" together the keys for `dict`s nested one inside the other, defining a path that essentially walks through each `dict` in turn:"
   ]
  },
  {
   "cell_type": "code",
   "execution_count": 25,
   "metadata": {},
   "outputs": [
    {
     "data": {
      "text/plain": [
       "'Milton Keynes South'"
      ]
     },
     "execution_count": 25,
     "metadata": {},
     "output_type": "execute_result"
    }
   ],
   "source": [
    "postcode_dict[ 'result' ][ 'parliamentary_constituency' ]"
   ]
  },
  {
   "cell_type": "markdown",
   "metadata": {},
   "source": [
    "#### Exercise\n",
    "\n",
    "By referencing directly into the `postcode_dict` variable, what CCG (Clinical Commissioning Group) is the location in?"
   ]
  },
  {
   "cell_type": "code",
   "execution_count": null,
   "metadata": {
    "collapsed": true
   },
   "outputs": [],
   "source": [
    "#YOUR CODE HERE\n"
   ]
  },
  {
   "cell_type": "markdown",
   "metadata": {},
   "source": [
    "What *code* does this CCG have? (Again, your answer should referencely directly into the `postcode_dict` variable.)"
   ]
  },
  {
   "cell_type": "code",
   "execution_count": null,
   "metadata": {
    "collapsed": true
   },
   "outputs": [],
   "source": [
    "#YOUR CODE HERE\n"
   ]
  },
  {
   "cell_type": "markdown",
   "metadata": {},
   "source": [
    "## Uniue Keys In Nested `dict`s\n",
    "In the sense that a `nested dict` is itself a `dict`, the unique key to a deeply nested element is then the complete path to the element. For example, when finding the Parlimanetary Consituency in result returned from the *potcodes.io* data, the unique key on the `postcode_dict` `dict` would be `[ 'result' ][ 'parliamentary_constituency' ]`.\n",
    "\n",
    "Sometimes, you might notice that the same key may appear multiple times in a nested Python `dict`. This does not break the requirement that keys are unique, because the keys are each keys in a *different* parent `dict`.\n",
    "\n",
    "For example, consider the data we might get back from a reuqest made on the GOogle geolocation API: "
   ]
  },
  {
   "cell_type": "code",
   "execution_count": 13,
   "metadata": {
    "collapsed": true
   },
   "outputs": [],
   "source": [
    "postcode_dict2 = {'results': [{'address_components': [{'long_name': 'Walton Hall',\n",
    "                                                       'short_name': 'Walton Hall',\n",
    "                                                       'types': ['establishment', 'point_of_interest']},\n",
    "                                                      {'long_name': 'Kents Hill',\n",
    "                                                       'short_name': 'Kents Hill',\n",
    "                                                       'types': ['locality', 'political']},\n",
    "                                                      {'long_name': 'Milton Keynes',\n",
    "                                                       'short_name': 'Milton Keynes',\n",
    "                                                       'types': ['postal_town']},\n",
    "                                                      {'long_name': 'Milton Keynes',\n",
    "                                                       'short_name': 'Milton Keynes',\n",
    "                                                       'types': ['administrative_area_level_2', 'political']},\n",
    "                                                      {'long_name': 'England',\n",
    "                                                       'short_name': 'England',\n",
    "                                                       'types': ['administrative_area_level_1', 'political']},\n",
    "                                                      {'long_name': 'United Kingdom',\n",
    "                                                       'short_name': 'GB',\n",
    "                                                       'types': ['country', 'political']},\n",
    "                                                      {'long_name': 'MK7 6BH',\n",
    "                                                       'short_name': 'MK7 6BH',\n",
    "                                                       'types': ['postal_code']}],\n",
    "                               'formatted_address': 'Walton Hall, Kents Hill, Milton Keynes MK7 6BH, UK',\n",
    "                               'geometry': {'location': {'lat': 52.02462269999999, 'lng': -0.7107079},\n",
    "                                            'location_type': 'APPROXIMATE',\n",
    "                                            'viewport': {'northeast': {'lat': 52.02597168029149,\n",
    "                                                                       'lng': -0.709358919708498},\n",
    "                                                         'southwest': {'lat': 52.02327371970849,\n",
    "                                                                       'lng': -0.712056880291502}}},\n",
    "                               'place_id': 'ChIJW3FMFVuhd0gRVUSpS2HG-ps',\n",
    "                               'types': ['establishment', 'point_of_interest']}],\n",
    "                  'status': 'OK'}"
   ]
  },
  {
   "cell_type": "markdown",
   "metadata": {},
   "source": [
    "Here, we see that there are several instances of `lat` and `lng` keys. The important thing to note is that the *path* to each of them is different:"
   ]
  },
  {
   "cell_type": "code",
   "execution_count": 23,
   "metadata": {},
   "outputs": [
    {
     "name": "stdout",
     "output_type": "stream",
     "text": [
      "52.02462269999999\n",
      "52.02597168029149\n",
      "52.02327371970849\n"
     ]
    }
   ],
   "source": [
    "print(postcode_dict2['results'][0]['geometry']['location']['lat'],\n",
    "      postcode_dict2['results'][0]['geometry']['viewport']['northeast']['lat'],\n",
    "      postcode_dict2['results'][0]['geometry']['viewport']['southwest']['lat'],\n",
    "      sep='\\n')"
   ]
  },
  {
   "cell_type": "markdown",
   "metadata": {},
   "source": [
    "Also not that we used a numerical index - `[0]` - to access the first (zero-indexed) `dict` in the Python `list` typed value associated with the `results` key in the original `postcode_dict2` `dict`."
   ]
  },
  {
   "cell_type": "code",
   "execution_count": 24,
   "metadata": {},
   "outputs": [
    {
     "data": {
      "text/plain": [
       "list"
      ]
     },
     "execution_count": 24,
     "metadata": {},
     "output_type": "execute_result"
    }
   ],
   "source": [
    "type(postcode_dict2['results'])"
   ]
  },
  {
   "cell_type": "markdown",
   "metadata": {},
   "source": [
    "So what is it that makes the various `lat` keys unique? The answer is that they uniquely reference a different parent `dict` in each case:"
   ]
  },
  {
   "cell_type": "code",
   "execution_count": 22,
   "metadata": {},
   "outputs": [
    {
     "name": "stdout",
     "output_type": "stream",
     "text": [
      "{'lat': 52.02462269999999, 'lng': -0.7107079}\n",
      "{'lat': 52.02597168029149, 'lng': -0.709358919708498}\n",
      "{'lat': 52.02327371970849, 'lng': -0.712056880291502}\n"
     ]
    }
   ],
   "source": [
    "print(postcode_dict2['results'][0]['geometry']['location'], \n",
    "      postcode_dict2['results'][0]['geometry']['viewport']['northeast'],\n",
    "      postcode_dict2['results'][0]['geometry']['viewport']['southwest'],\n",
    "      sep='\\n')"
   ]
  },
  {
   "cell_type": "code",
   "execution_count": null,
   "metadata": {
    "collapsed": true
   },
   "outputs": [],
   "source": []
  }
 ],
 "metadata": {
  "kernelspec": {
   "display_name": "Python 3",
   "language": "python",
   "name": "python3"
  },
  "language_info": {
   "codemirror_mode": {
    "name": "ipython",
    "version": 3
   },
   "file_extension": ".py",
   "mimetype": "text/x-python",
   "name": "python",
   "nbconvert_exporter": "python",
   "pygments_lexer": "ipython3",
   "version": "3.6.1"
  }
 },
 "nbformat": 4,
 "nbformat_minor": 2
}
