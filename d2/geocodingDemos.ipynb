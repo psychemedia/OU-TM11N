{
 "cells": [
  {
   "cell_type": "markdown",
   "metadata": {
    "deletable": true,
    "editable": true
   },
   "source": [
    "# Getting Started With Geoocoding\n",
    "\n",
    "In this notebook, you will learn how to geocode different sorts of location data by making requests to several online APIs (*Application Proramming Interface*) for latitude and longitude co-ordinates associated with those locations.\n",
    "\n",
    "The location data we will consider includes:\n",
    "\n",
    "- <a href=\"#postcodes\">postcodes</a>\n",
    "- <a href=\"#addresses\">addresses</a>\n",
    "- <a href=\"#IPaddresses\">IP addresses</a>\n",
    "- <a href=\"#wifiHotspits\">wifi access points</a>"
   ]
  },
  {
   "cell_type": "code",
   "execution_count": null,
   "metadata": {
    "collapsed": true,
    "deletable": true,
    "editable": true,
    "scrolled": true
   },
   "outputs": [],
   "source": [
    "#The requests library makes it easy to call URLs using Python\n",
    "import requests"
   ]
  },
  {
   "cell_type": "markdown",
   "metadata": {
    "deletable": true,
    "editable": true
   },
   "source": [
    "<a name=\"postcodes\"></a>\n",
    "## Postcodes\n",
    "\n",
    "Postcodes are a widely used form of location data, typically capable of identifying a location to a resolution of a few hundred square metres.\n",
    "\n",
    "There are several online services that will return geolocation information given a postcode.\n",
    "\n",
    "To call the service, we construct a URL as defined for a particular API and make a request to that URL using the *python* `requests` package.\n",
    "\n",
    "Data is often returned from webservices using the JSON (Javascript Object Notation) data format, although some APIs allow you to specify other formats such as XML.\n",
    "\n",
    "(One advantage of the JSON response is that it can be immediately consumed by a Javascript script called from inside a webpage.)\n",
    "\n",
    "The *python* `requests` library has a method that parses a correctly formed JSON response as a *python* `dict`.\n",
    "\n",
    "Run the following cell to call the `postcodes.io` API with a particular postcode.\n",
    "\n",
    "See if you can make sense of the result that is returned."
   ]
  },
  {
   "cell_type": "code",
   "execution_count": null,
   "metadata": {
    "collapsed": false,
    "deletable": true,
    "editable": true,
    "scrolled": true
   },
   "outputs": [],
   "source": [
    "postcode = 'MK7 6AA'\n",
    "r=requests.get('https://api.postcodes.io/postcodes/{PC}'.format(PC=postcode))\n",
    "r.json()"
   ]
  },
  {
   "cell_type": "markdown",
   "metadata": {},
   "source": [
    "Try rerunning the previous cell using different postcodes - can the service locate your home postcode?"
   ]
  },
  {
   "cell_type": "markdown",
   "metadata": {},
   "source": [
    "### Parsing the `postcodes.io` JSON data\n",
    "\n",
    "Once we have retrieved the data from the API, and cast it as a *python* data object, we can look inside it programmatically.\n",
    "\n",
    "For example, we can find the latitude and longitude values."
   ]
  },
  {
   "cell_type": "code",
   "execution_count": null,
   "metadata": {
    "collapsed": false,
    "deletable": true,
    "editable": true,
    "scrolled": true
   },
   "outputs": [],
   "source": [
    "#Obtain the lat/long of a postcode\n",
    "lat=r.json()['result']['latitude']\n",
    "lon=r.json()['result']['longitude']\n",
    "\n",
    "#Display the result\n",
    "print(lat,lon)"
   ]
  },
  {
   "cell_type": "markdown",
   "metadata": {},
   "source": [
    "Having access to the latitude and longitude means we can start to make use of that information, for example by plotting it on a map.\n",
    "\n",
    "You may recall how we previously used the `folium` package to generate interactive maps from *python* code within a notebook.\n",
    "\n",
    "We can do a similar thing again here."
   ]
  },
  {
   "cell_type": "code",
   "execution_count": null,
   "metadata": {
    "collapsed": false,
    "deletable": true,
    "editable": true,
    "scrolled": true
   },
   "outputs": [],
   "source": [
    "#Plot the lat long of a postcode on a map\n",
    "\n",
    "#We need to import the following packages to access the maps\n",
    "import folium\n",
    "\n",
    "#Create a map centered on the postcode location at a particular zoom level\n",
    "mymap = folium.Map(location=[lat, lon], zoom_start=15)\n",
    "\n",
    "#Create a popup message using Python string formatting to create the label based on variable values\n",
    "popupstr = 'Location of {PC}: ({lat},{lon})'.format(PC=postcode, lat=lat,lon=lon)\n",
    "\n",
    "#Display a marker for the location\n",
    "folium.Marker([52.0239, -0.7072], popup=popupstr).add_to(mymap)\n",
    "mymap"
   ]
  },
  {
   "cell_type": "markdown",
   "metadata": {
    "deletable": true,
    "editable": true
   },
   "source": [
    "<a name=\"addresses\"></a>\n",
    "## Addresses\n",
    "\n",
    "As well as geolocating postcodes, we can also goecode complete (or partial) addresses. One API that supports address based geocoding is the Google Maps geocoding API.\n",
    "\n",
    "Once again, we need to construct a URL according to a pattern defined by the API documentation. Then we can make a request to that URL and hopefully get the geocoded data back as a response."
   ]
  },
  {
   "cell_type": "code",
   "execution_count": null,
   "metadata": {
    "collapsed": false,
    "deletable": true,
    "editable": true,
    "scrolled": true
   },
   "outputs": [],
   "source": [
    "address='Open University, Walton Hall, Milton Keynes, MK7 6AA, UK'\n",
    "r= requests.get(\"https://maps.googleapis.com/maps/api/geocode/json\", params={'address': address, 'sensor': \"false\"})\n",
    "r.json()"
   ]
  },
  {
   "cell_type": "markdown",
   "metadata": {},
   "source": [
    "Try rerunning the previous cell with an address that is familiar to you. Does the API find it?"
   ]
  },
  {
   "cell_type": "markdown",
   "metadata": {},
   "source": [
    "### Optional Activities\n",
    "\n",
    "- see if you can write a loop that will look up the geolocations of several postcodes, one at a time. To be nice to the API import the *python* `time` library and add the statement `time.sleep(1)` inside the loop to pause its execution for one second during each iteration.\n",
    "- create a new `folium` map object to display several markers, one for each of your (looped) postcodes. Inside the postcode loop add a corresponding marker to the map. Don't forget to render the map from the last line of code in the cell."
   ]
  },
  {
   "cell_type": "markdown",
   "metadata": {
    "deletable": true,
    "editable": true
   },
   "source": [
    "<a name=\"IPaddresses\"></a>\n",
    "## IP Addresses\n",
    "\n",
    "As well as looking up geolocation data for a *postal* address, we can also try to look up a location based on the IP address of a computer. There are seveal websites that allow you to lookup the IP address of the device you are using to connect to the internet, and several webservices too.\n",
    "\n",
    "I'm going to use a simple service from Amazon web services that returns an IP address terminated by an end of line (`\\n`) character. By using the `requests` library, I can call the URL, access the data response (`text`) and then strip (`.strip()`)) the end-of-line whitespace character from it."
   ]
  },
  {
   "cell_type": "code",
   "execution_count": null,
   "metadata": {
    "collapsed": false,
    "scrolled": true
   },
   "outputs": [],
   "source": [
    "myIPaddress=requests.get('http://checkip.amazonaws.com/').text.strip()\n",
    "myIPaddress"
   ]
  },
  {
   "cell_type": "code",
   "execution_count": null,
   "metadata": {
    "collapsed": false,
    "scrolled": true
   },
   "outputs": [],
   "source": [
    "#We can construct a URL based around the IP address of the machine making the request as follows:\n",
    "url='https://freegeoip.net/json/{IP}'.format(IP=myIPaddress)\n",
    "url"
   ]
  },
  {
   "cell_type": "code",
   "execution_count": null,
   "metadata": {
    "collapsed": false,
    "deletable": true,
    "editable": true,
    "scrolled": true
   },
   "outputs": [],
   "source": [
    "r=requests.get(url)\n",
    "r.json()"
   ]
  },
  {
   "cell_type": "markdown",
   "metadata": {},
   "source": [
    "The result may surprise you, for example if the notebook and the python process associated with it is running on a server hosted in the cloud. In this case, try looking up the IP address associated with computer you are using to access the internet by visiting the link: [http://checkip.amazonaws.com/](http://checkip.amazonaws.com/).\n"
   ]
  },
  {
   "cell_type": "markdown",
   "metadata": {},
   "source": [
    "<a name=\"wifiHotspots\"></a>\n",
    "## WiFi Hotspot MAC Addresses\n",
    "\n",
    "As well as services that provide access to directories that try to associate IP addresses with physical locations, there are also databases that also try to associate MAC addresses of wifi routers with physical locations.\n",
    "\n",
    "If your computer has a wifi enabled, you will use access a low level command on your computer that identifies in-range wifi routers and provides adminstrative information about them.\n",
    "\n",
    "**STILL NEEDS TESTING & REFINING - TO DO** \n",
    "\n",
    "Note that to call the Google webservice used in this example that associates router MAC address with locations, you will need to get a Google Geolocation API token: visit [https://developers.google.com/maps/documentation/geocoding/get-api-key](https://developers.google.com/maps/documentation/geocoding/get-api-key) and follow the instructions on how to get a key for the geolocation API.\n",
    "\n",
    "When you have obtained your key, use it to set the `googleMapsAPIkey` variable below.\n",
    "\n",
    "Also note that the code may look a little bit involved. But `DON'T PANIC`, you don't need to be able to write, or even read, this sort of code for the purposes of this course."
   ]
  },
  {
   "cell_type": "code",
   "execution_count": null,
   "metadata": {
    "collapsed": true,
    "scrolled": true
   },
   "outputs": [],
   "source": [
    "googleMapsAPIkey=\"YOUR_KEY_HERE\""
   ]
  },
  {
   "cell_type": "code",
   "execution_count": null,
   "metadata": {
    "collapsed": false,
    "scrolled": true
   },
   "outputs": [],
   "source": [
    "import sys\n",
    "\n",
    "#http://stackoverflow.com/a/9859202/454773\n",
    "def isInt_str(v):\n",
    "    v = str(v).strip()\n",
    "    return v=='0' or (v if v.find('..') > -1 else v.lstrip('-+').rstrip('0').rstrip('.')).isdigit()\n",
    "\n",
    "\n",
    "#/System/Library/PrivateFrameworks/Apple80211.framework/Resources/airport\n",
    "import subprocess\n",
    "def getWifiMacAddresses():\n",
    "    #autodetect platform and then report based on this? \n",
    "    print(sys.platform)\n",
    "    \n",
    "    macAddr={}\n",
    "    \n",
    "    #For Mac:\n",
    "    if sys.platform=='darwin':\n",
    "            results = subprocess.check_output([\"/System/Library/PrivateFrameworks/Apple80211.framework/Resources/airport\", \"-s\"])\n",
    "            results = results.decode(\"utf-8\") # needed in python 3\n",
    "            ls = results.split(\"\\n\")\n",
    "            ls = ls[1:]\n",
    "            for l in [x.strip() for x in ls if x.strip()!='']:\n",
    "                ll=l.split(' ')\n",
    "                #We could use a regular expression - or we can cosntruct our parser a step at a time...\n",
    "                macAddr[l.strip().split(' ')[0]]=(l.strip().split(' ')[1], l.strip().split(' ')[2])\n",
    "                \n",
    "    elif sys.platform=='??windows':\n",
    "        #Need a windows machine to explore this - TO DO\n",
    "        #win?\n",
    "        #results = subprocess.check_output([\"netsh\", \"wlan\", \"show\", \"network\"])\n",
    "\n",
    "        results = subprocess.check_output([\"netsh\", \"wlan\", \"show\", \"network\"])\n",
    "\n",
    "        #Adding: / mode=bssid / gives SSIDS?#or maybe: netsh wlan show allresults = results.decode(\"ascii\") # needed in python 3\n",
    "        results = results.replace(\"\\r\",\"\")\n",
    "        ls = results.split(\"\\n\")\n",
    "        ls = ls[4:]\n",
    "        ssids = []\n",
    "        x = 0\n",
    "        while x < len(ls):\n",
    "            if x % 5 == 0:\n",
    "                ssids.append(ls[x])\n",
    "            x += 1\n",
    "        print(ssids)\n",
    "\n",
    "    elif sys.platform=='??linux':\n",
    "        #linux?\n",
    "        #! apt-get -y install wireless-tools\n",
    "        #results = subprocess.check_output([\"iwlist\",\"scanning\"])    \n",
    "        #via PP - linux text - TO DO\n",
    "        # apt-get -y install wireless-tools then run iwlist scanning to display the details of wireless access points your computer can see.\n",
    "        #apt-get -y install wireless-tools gave me \"Could not open the lock file ...\"\n",
    "        #However when I checked in the Ubuntu Software Centre wireless-tools was already installed. I think non-expert users may use the Software Centre to install additional applications.\n",
    "        #iwlist just give you a not very helpful usage list. What works directly is:\n",
    "        #iwlist wlan0 scan\n",
    "        pass\n",
    "\n",
    "    return macAddr\n",
    "\n",
    "postjson={'wifiAccessPoints':[]}\n",
    "hotspots=getWifiMacAddresses()\n",
    "for h in hotspots:\n",
    "    addr,db=hotspots[h]\n",
    "    if isInt_str(db):\n",
    "        postjson['wifiAccessPoints'].append({'macAddress':addr, 'signalStrength':int(db)})\n",
    "        print('{}: {}'.format(h,hotspots[h]))\n",
    "\n",
    "url='https://www.googleapis.com/geolocation/v1/geolocate?key={}'.format(googleMapsAPIkey)\n",
    "\n",
    "r = requests.post(url, json=postjson)\n",
    "r.json()"
   ]
  },
  {
   "cell_type": "markdown",
   "metadata": {},
   "source": [
    "## Summary\n",
    "\n",
    "In this notebook, you have learned how to geocode several different sorts of location identifer - postcodes, postal addresses, IP addresses and maybe even the MAC address of any WiFI routers in view of your computer.\n",
    "\n",
    "You have also seen how we can take the JSON data returned from the geolocation services and parse it as python dict that we can then start to work *as data*, for example, by plotting markers associated with identified locations on an interactive map."
   ]
  }
 ],
 "metadata": {
  "kernelspec": {
   "display_name": "Python 3",
   "language": "python",
   "name": "python3"
  },
  "language_info": {
   "codemirror_mode": {
    "name": "ipython",
    "version": 3
   },
   "file_extension": ".py",
   "mimetype": "text/x-python",
   "name": "python",
   "nbconvert_exporter": "python",
   "pygments_lexer": "ipython3",
   "version": "3.5.1"
  }
 },
 "nbformat": 4,
 "nbformat_minor": 0
}
